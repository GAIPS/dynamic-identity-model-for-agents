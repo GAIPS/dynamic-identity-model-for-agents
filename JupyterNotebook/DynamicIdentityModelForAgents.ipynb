{
 "cells": [
  {
   "cell_type": "markdown",
   "id": "35b90562",
   "metadata": {},
   "source": [
    "<span>\n",
    "    <img src=\"https://www.inesc-id.pt/wp-content/uploads/2019/08/INESC-ID-new-logo_version-02A.png\" width=\"110px\" align=\"right\">\n",
    "    <img src=\"https://upload.wikimedia.org/wikipedia/pt/e/ed/IST_Logo.png\" width=\"40px\" align=\"right\">\n",
    "</span>\n",
    "<span>\n",
    "    <b>Authors:</b> Joana Dimas, Inês Lobo, Samuel Mascarenhas, Diogo Rato and Rui Prada <br/>\n",
    "    <b>Python version:</b> 3.8.8<br/>\n",
    "    <b>Scikit-learn version:</b> 0.24.1<br/>\n",
    "</span>"
   ]
  },
  {
   "cell_type": "markdown",
   "id": "d4122943",
   "metadata": {},
   "source": [
    "# Dynamic Identity Model For Agents\n",
    "\n"
   ]
  },
  {
   "cell_type": "markdown",
   "id": "2589d276",
   "metadata": {},
   "source": [
    "In this notebook, the Dynamic Identity Model for Agents is explained and implemented. <b>It is relevant to mention that this notebook is not 100% comprehensive</b>.\n",
    "\n",
    "## Table of Contents\n",
    "\n",
    "1. [Introduction](#introduction)\n",
    "    1. [Architecture](#architecture)\n",
    "2. [Environment](#environment) \n",
    "    1. [Social Context](#socContext)\n",
    "    2. [Agent](#agent)\n",
    "    3. [Social Group](#socialGroup)\n",
    "    4. [Instatiate Environment](#instEnvironment)\n",
    "3. [Identity Salience Mechanism](#idSalienceMechanism)\n",
    "    1. [Social Categorization](#socCategorization)\n",
    "    2. [NormativeFit](#normativeFit)\n",
    "    3. [ComparativeFit](#comparativeFit)\n",
    "    4. [Salience](#salience)\n",
    "    5. [Accessibility Update](#accUpdate)\n",
    "    6. [Simulation Cycle](#simulation)\n",
    "    7. [Salience and Accessibility Plots](#plots)\n",
    "4. [Conclusion](#conclusion)\n"
   ]
  },
  {
   "cell_type": "markdown",
   "id": "49eeeffb",
   "metadata": {},
   "source": [
    "## Introduction <a id='introduction'></a>"
   ]
  },
  {
   "cell_type": "markdown",
   "id": "889758c3",
   "metadata": {},
   "source": [
    "The Dynamic Identity Model for Agents (DIMA) is based on the <b>Social Identity Approach</b>, aiming to provide agents with <b>multi-faceted and context-dependent identities</b>. Its architecture is shown in the figure below. This model has the <b>identity salience mechanism</b> at its center: agents can redefine their identity either as unique individuals (personal identity) or members of a social group (social identity), given their interpretation of the social environment. The active identity (including the salience value, if it corresponds to the salient social identity) will influence agents' decision making."
   ]
  },
  {
   "cell_type": "markdown",
   "id": "a2492f61",
   "metadata": {},
   "source": [
    "<h3 align=\"center\">DIMA Architecture</h3> <a id='architecture'></a>\n",
    "\n",
    "<img src=\"dima.png\" width=60% align=\"center\">"
   ]
  },
  {
   "cell_type": "markdown",
   "id": "8c05d10d",
   "metadata": {},
   "source": [
    "## Environment <a id='environment'></a>"
   ]
  },
  {
   "cell_type": "markdown",
   "id": "c115a46d",
   "metadata": {},
   "source": [
    "### Social Context <a id='socContext'></a>"
   ]
  },
  {
   "cell_type": "markdown",
   "id": "d52a9a00",
   "metadata": {},
   "source": [
    "The context $Ctx = (A,T)$ is defined by the present agents (who) and the theme (what, where,\n",
    "when).\n",
    "\n",
    "The theme $T = \\{{c}_{1}, ...,{c}_{n}\\}, c \\in C$ highlights the characteristics relevant to the current situation. Additionally, each characteristic of the theme is assigned a weight, allowing to prioritize some characteristics over others."
   ]
  },
  {
   "cell_type": "code",
   "execution_count": 1,
   "id": "bfb3685c",
   "metadata": {
    "scrolled": false
   },
   "outputs": [],
   "source": [
    "class SocialContext:\n",
    "    def __init__(self, agentsPresent, theme):\n",
    "        self.agentsPresent = agentsPresent\n",
    "        self.theme = theme"
   ]
  },
  {
   "cell_type": "markdown",
   "id": "a27670a8",
   "metadata": {},
   "source": [
    "### Agent <a id='agent'></a>"
   ]
  },
  {
   "cell_type": "markdown",
   "id": "5a2c7910",
   "metadata": {},
   "source": [
    "\n",
    "As for the model's agents $A = \\{{a}_{1}, ...,{a}_{n}\\}$, each agent $a=(name_{a}, P_{a},{KB}_{a}), a\\in A$ is represented by their name string, a set of personal characteristics, and their knowledge base.\n",
    "\n",
    "The personal characteristics $P_a = \\{({c}_{1}, {v}_{1}), ...,({c}_{n}, {v}_{n})\\}, c \\in C, v \\in [0, 1]$ correspond to the finite set of characteristics that define the agent and their associated values.\n",
    "\n",
    "The knowledge base $KB_a = \\{{sg}_{1}, ..., {sg}_{n}\\}, sg \\in SG$ is a finite set of social groups known by the agent.\n"
   ]
  },
  {
   "cell_type": "code",
   "execution_count": 2,
   "id": "ced08c70",
   "metadata": {},
   "outputs": [],
   "source": [
    "class Agent:\n",
    "    def __init__(self, name, characteristics, knowledgeBase, scenario = None):\n",
    "        self.name = name\n",
    "        self.personalCharacteristics = characteristics\n",
    "        self.knowledgeBase = knowledgeBase\n",
    "        self.scenario = scenario\n",
    "        \n",
    "        #for the rest of the model calculations \n",
    "        self.salientIdentity = None"
   ]
  },
  {
   "cell_type": "markdown",
   "id": "90a59962",
   "metadata": {},
   "source": [
    "<h3 id=\"social-group\">Social Group</h3> <a id='socialGroup'></a>"
   ]
  },
  {
   "cell_type": "markdown",
   "id": "517cc522",
   "metadata": {},
   "source": [
    "A social group $sg= (name_{sg}, PT_{sg}, acc_{sg}), acc \\in [0, 1]$ is represented by a name, its prototypical characteristics, and accessibility value.\n",
    "\n",
    "The accessibility of a social group $acc_{sg}$ reveals how easy it is for the agent to recall this identity based on prior experiences.\n",
    "\n",
    "The prototypical characteristics $PT_{sg} = \\{({c}_{1}, {v}_{1}), ...,({c}_{n}, {v}_{n})\\}, c \\in C, v \\in [0, 1]$ correspond to the finite set of expected characteristics of a typical member of the group and their associated values.\n"
   ]
  },
  {
   "cell_type": "code",
   "execution_count": 3,
   "id": "ab3ef6d8",
   "metadata": {},
   "outputs": [],
   "source": [
    "class SocialGroup:\n",
    "    def __init__(self, name, characteristics, accessibility, scenario = None):\n",
    "        self.name = name\n",
    "        self.characteristics = characteristics\n",
    "        self.accessibility = accessibility\n",
    "        \n",
    "        #for the rest of the model calculations\n",
    "        self.type = 0; #not present - 0, present - 1\n",
    "        self.dispersion = None;\n",
    "        self.fitness = None;\n",
    "        self.salience = None;\n",
    "        #for the plots\n",
    "        self.salienceSteps = []\n",
    "        self.accessibilitySteps = []"
   ]
  },
  {
   "cell_type": "markdown",
   "id": "547eb2f9",
   "metadata": {},
   "source": [
    "### Instantiate Environment <a id='instEnvironment'></a>"
   ]
  },
  {
   "cell_type": "markdown",
   "id": "132e6e82",
   "metadata": {},
   "source": [
    "The environment can be specified in two different JSON files.\n",
    "The following auxiliary function opens and loads the JSON input files. <div id=\"input-files\"></div>"
   ]
  },
  {
   "cell_type": "code",
   "execution_count": 4,
   "id": "dc909f94",
   "metadata": {},
   "outputs": [
    {
     "name": "stdout",
     "output_type": "stream",
     "text": [
      "{\n",
      "  \"agents\": [\n",
      "    {\n",
      "      \"name\": \"Ace\",\n",
      "      \"characteristics\": [\n",
      "        {\n",
      "          \"name\": \"intelligence\",\n",
      "          \"value\": 0.92\n",
      "        },\n",
      "        {\n",
      "          \"name\": \"charisma\",\n",
      "          \"value\": 0.1\n",
      "        }\n",
      "      ],\n",
      "      \"knowledgeBase\": []\n",
      "    },\n",
      "    {\n",
      "      \"name\": \"Ben\",\n",
      "      \"characteristics\": [\n",
      "        {\n",
      "          \"name\": \"intelligence\",\n",
      "          \"value\": 0.7\n",
      "        },\n",
      "        {\n",
      "          \"name\": \"charisma\",\n",
      "          \"value\": 0.12\n",
      "        }\n",
      "      ],\n",
      "      \"knowledgeBase\": []\n",
      "    },\n",
      "    {\n",
      "      \"name\": \"Cara\",\n",
      "      \"characteristics\": [\n",
      "        {\n",
      "          \"name\": \"intelligence\",\n",
      "          \"value\": 0.94\n",
      "        },\n",
      "        {\n",
      "          \"name\": \"charisma\",\n",
      "          \"value\": 0.15\n",
      "        }\n",
      "      ],\n",
      "      \"knowledgeBase\": []\n",
      "    },\n",
      "    {\n",
      "      \"name\": \"Dan\",\n",
      "      \"characteristics\": [\n",
      "        {\n",
      "          \"name\": \"intelligence\",\n",
      "          \"value\": 0.8\n",
      "        },\n",
      "        {\n",
      "          \"name\": \"charisma\",\n",
      "          \"value\": 0.05\n",
      "        }\n",
      "      ],\n",
      "      \"knowledgeBase\": []\n",
      "    },\n",
      "    {\n",
      "      \"name\": \"Edgar\",\n",
      "      \"characteristics\": [\n",
      "        {\n",
      "          \"name\": \"intelligence\",\n",
      "          \"value\": 0.96\n",
      "        },\n",
      "        {\n",
      "          \"name\": \"charisma\",\n",
      "          \"value\": 0.2\n",
      "        }\n",
      "      ],\n",
      "      \"knowledgeBase\": []\n",
      "    },\n",
      "    {\n",
      "      \"name\": \"Felix\",\n",
      "      \"characteristics\": [\n",
      "        {\n",
      "          \"name\": \"intelligence\",\n",
      "          \"value\": 0.91\n",
      "        },\n",
      "        {\n",
      "          \"name\": \"charisma\",\n",
      "          \"value\": 0.19\n",
      "        }\n",
      "      ],\n",
      "      \"knowledgeBase\": []\n",
      "    },\n",
      "    {\n",
      "      \"name\": \"Gabriel\",\n",
      "      \"characteristics\": [\n",
      "        {\n",
      "          \"name\": \"intelligence\",\n",
      "          \"value\": 0.81\n",
      "        },\n",
      "        {\n",
      "          \"name\": \"charisma\",\n",
      "          \"value\": 0.15\n",
      "        }\n",
      "      ],\n",
      "      \"knowledgeBase\": []\n",
      "    },\n",
      "    {\n",
      "      \"name\": \"Harry\",\n",
      "      \"characteristics\": [\n",
      "        {\n",
      "          \"name\": \"intelligence\",\n",
      "          \"value\": 0.83\n",
      "        },\n",
      "        {\n",
      "          \"name\": \"charisma\",\n",
      "          \"value\": 0.2\n",
      "        }\n",
      "      ],\n",
      "      \"knowledgeBase\": []\n",
      "    },\n",
      "    {\n",
      "      \"name\": \"Igor\",\n",
      "      \"characteristics\": [\n",
      "        {\n",
      "          \"name\": \"intelligence\",\n",
      "          \"value\": 0.15\n",
      "        },\n",
      "        {\n",
      "          \"name\": \"charisma\",\n",
      "          \"value\": 0.87\n",
      "        }\n",
      "      ],\n",
      "      \"knowledgeBase\": []\n",
      "    },\n",
      "    {\n",
      "      \"name\": \"Jane\",\n",
      "      \"characteristics\": [\n",
      "        {\n",
      "          \"name\": \"intelligence\",\n",
      "          \"value\": 0.19\n",
      "        },\n",
      "        {\n",
      "          \"name\": \"charisma\",\n",
      "          \"value\": 0.93\n",
      "        }\n",
      "      ],\n",
      "      \"knowledgeBase\": []\n",
      "    }\n",
      "  ]\n",
      "}\n",
      "{\n",
      "  \"context\": {\n",
      "    \"theme\": [\n",
      "      {\n",
      "        \"name\": \"intelligence\",\n",
      "        \"weight\": 0.5\n",
      "      },\n",
      "      {\n",
      "        \"name\": \"charisma\",\n",
      "        \"weight\": 0.5\n",
      "      }\n",
      "    ],\n",
      "    \"agentsPresent\": [\n",
      "      \"Ace\",\n",
      "      \"Ben\",\n",
      "      \"Cara\",\n",
      "      \"Dan\",\n",
      "      \"Edgar\",\n",
      "      \"Felix\",\n",
      "      \"Gabriel\",\n",
      "      \"Harry\",\n",
      "      \"Igor\",\n",
      "      \"Jane\"\n",
      "    ]\n",
      "  }\n",
      "}\n"
     ]
    }
   ],
   "source": [
    "import json\n",
    "    \n",
    "def readJSONFile(file):\n",
    "    data = None\n",
    "    try:\n",
    "        # open JSON file\n",
    "        f = open(file)\n",
    "        # returns JSON object as a dictionary\n",
    "        data = json.load(f)\n",
    "    except:\n",
    "        print(\"Problem opening or loading file!\")\n",
    "    return data\n",
    "\n",
    "#Change files here\n",
    "agentsFile = \"agents_bigdiffgroupsize.json\"\n",
    "print(json.dumps(readJSONFile(agentsFile), indent=2))\n",
    "contextFile = \"context.json\"\n",
    "print(json.dumps(readJSONFile(contextFile), indent=2))\n"
   ]
  },
  {
   "cell_type": "markdown",
   "id": "22c2516e",
   "metadata": {},
   "source": [
    "The functions below are used to initialize the agents and the context."
   ]
  },
  {
   "cell_type": "code",
   "execution_count": 5,
   "id": "a4b65be3",
   "metadata": {},
   "outputs": [],
   "source": [
    "def initAgents(file):\n",
    "    agents = []\n",
    "    data = readJSONFile(file)\n",
    "    if data is not None:\n",
    "        for a in data['agents']:\n",
    "            nameA = a['name']\n",
    "            charA = {}\n",
    "            kbA = []\n",
    "            for c in a['characteristics']:\n",
    "                charA[c['name']] = c['value']\n",
    "            for sg in a['knowledgeBase']:\n",
    "                nameSG = sg['name']\n",
    "                charSG = {}\n",
    "                accessibility = sg['accessibility']\n",
    "                for c in sg['characteristics']:\n",
    "                    charSG[c['name']] = c['value']\n",
    "                kbA.append(SocialGroup(nameSG, charSG, accessibility))\n",
    "            agents.append(Agent(nameA, charA, kbA))\n",
    "    return agents\n",
    "    \n",
    "def initContext(file, agents):\n",
    "    data = readJSONFile(file)\n",
    "    if data is not None:\n",
    "        theme = {}\n",
    "        for t in data['context']['theme']:\n",
    "            theme[t['name']] = t['weight']\n",
    "\n",
    "        agentsCtxNames = data['context']['agentsPresent']\n",
    "        agentsCtx = []\n",
    "        for a in agents:\n",
    "            if a.name in agentsCtxNames:\n",
    "                agentsCtx.append(a)\n",
    "\n",
    "        return SocialContext(agentsCtx, theme)\n"
   ]
  },
  {
   "cell_type": "markdown",
   "id": "3a1c90d4",
   "metadata": {},
   "source": [
    "Then, we can call the functions above giving as arguments the appropriate input files."
   ]
  },
  {
   "cell_type": "code",
   "execution_count": 6,
   "id": "492963f0",
   "metadata": {},
   "outputs": [
    {
     "name": "stdout",
     "output_type": "stream",
     "text": [
      "There are 10 agents present.\n",
      "Relevant characteristics are intelligence, charisma."
     ]
    }
   ],
   "source": [
    "agents = initAgents(agentsFile)\n",
    "context = initContext(contextFile, agents)\n",
    "\n",
    "print(\"There are \" + str(len(context.agentsPresent)) + \" agents present.\")\n",
    "print(\"Relevant characteristics are\", end = \" \")\n",
    "lenTheme = len(context.theme)\n",
    "i = 0\n",
    "for c in context.theme:\n",
    "    if i == lenTheme - 1: print(c , end = \".\")\n",
    "    else: print(c , end = \", \")\n",
    "    i += 1"
   ]
  },
  {
   "cell_type": "markdown",
   "id": "d102f80a",
   "metadata": {},
   "source": [
    "## Identity Salience Mechanism <a id=\"idSalienceMechanism\"></a>"
   ]
  },
  {
   "cell_type": "markdown",
   "id": "1ee76302",
   "metadata": {},
   "source": [
    "Following the environment definition, we can start implementing the agent's identity salience mechanism, as well as define a few variables for the simulation."
   ]
  },
  {
   "cell_type": "code",
   "execution_count": 7,
   "id": "fb523996",
   "metadata": {},
   "outputs": [],
   "source": [
    "#Simulation Variables\n",
    "numSteps = 100\n",
    "numRuns = 30\n",
    "#Plots\n",
    "plotSymbols = [\"o\", \"v\", \"H\", \"*\", \"X\", \"d\", \"P\", \"s\", \"D\", \"p\"]\n",
    "colors = [\"red\", \"blue\", \"green\", \"yellow\", \"aqua\", \"pink\", \"brown\", \"darkorange\", \"purple\", \"gray\", \"olive\", \"magenta\"]\n",
    "colorsAgents = [\"yellow\", \"aqua\", \"green\", \"pink\", \"brown\", \"darkorange\", \"purple\", \"gray\", \"olive\", \"magenta\"]\n",
    "        \n",
    "#Identity Salience Variables\n",
    "#Clustering        \n",
    "thresholdCluster = 0.2\n",
    "#Normative Fit\n",
    "thresholdNormative = 0.2\n",
    "#Comparative Fit\n",
    "comparativeFitAlpha = 0.5\n",
    "comparativeFitBeta = 0.5\n",
    "#Salience\n",
    "thresholdMinimalSalience = 0.2\n"
   ]
  },
  {
   "cell_type": "markdown",
   "id": "386cd568",
   "metadata": {},
   "source": [
    "In several steps of the identity salience cycle, we have to compute the distance between two points, containing characteristics' values. Then, we created an auxiliary function for that purpose.\n",
    "We used a <b>weighted euclidean distance</b>, taking into consideration the weights given for each relevant characteristic in the context's theme."
   ]
  },
  {
   "cell_type": "code",
   "execution_count": 8,
   "id": "2ef423f9",
   "metadata": {},
   "outputs": [
    {
     "name": "stdout",
     "output_type": "stream",
     "text": [
      "1.0\n",
      "0.41231056256176607\n"
     ]
    }
   ],
   "source": [
    "import math\n",
    "import numpy as np\n",
    "\n",
    "contextWeights = []\n",
    "for c in context.theme:\n",
    "    contextWeights.append(context.theme[c])\n",
    "    \n",
    "def distanceWeights(first, second):\n",
    "    lenWeights = len(contextWeights)\n",
    "    lDist = abs(np.array(first)-np.array(second))\n",
    "    auxDist = 0\n",
    "    #weighted euclidean distance\n",
    "    for i in range(0, lenWeights):\n",
    "        auxDist += contextWeights[i] * (lDist[i])**2 \n",
    "    dist = math.sqrt(auxDist)\n",
    "    return dist\n",
    "\n",
    "#Examples\n",
    "print(distanceWeights([0, 1], [1, 0]))\n",
    "print(distanceWeights([0.1, 0.8], [0.4, 0.3]))"
   ]
  },
  {
   "cell_type": "markdown",
   "id": "4fa1428b",
   "metadata": {},
   "source": [
    "### Social Categorization <a id=\"socCategorization\"></a>"
   ]
  },
  {
   "cell_type": "markdown",
   "id": "d810957c",
   "metadata": {},
   "source": [
    "In the social categorization phase, the goal is to identify the present social groups. Then, the present agents are grouped into social categories according the context's relevant characteristics.\n",
    "\n",
    "$SocialCategorization(Ctx, A) = \\{sc_1, ..., sc_n\\}, a \\in A, sc \\in SC$\n",
    "\n",
    "For this step, we used an <b>iterative K-Means</b> algorithm, following a distance threshold heuristic: $\\forall a (distance(a, sc_a) \\leq tSocialGroup), a \\in A, sc \\in SC$"
   ]
  },
  {
   "cell_type": "code",
   "execution_count": 9,
   "id": "472ee371",
   "metadata": {},
   "outputs": [
    {
     "name": "stdout",
     "output_type": "stream",
     "text": [
      "(2, array([0, 0, 0, 0, 0, 0, 0, 0, 1, 1]), array([[0.85875, 0.145  ],\n",
      "       [0.17   , 0.9    ]]))\n"
     ]
    },
    {
     "name": "stderr",
     "output_type": "stream",
     "text": [
      "C:\\Users\\Ines Lobo\\anaconda3\\lib\\site-packages\\sklearn\\cluster\\_kmeans.py:881: UserWarning: KMeans is known to have a memory leak on Windows with MKL, when there are less chunks than available threads. You can avoid it by setting the environment variable OMP_NUM_THREADS=1.\n",
      "  warnings.warn(\n"
     ]
    }
   ],
   "source": [
    "from sklearn.cluster import KMeans\n",
    "\n",
    "def distanceToCentroids(first, second):\n",
    "    distance = []\n",
    "    lenFirst = len(first)\n",
    "    for i in range(0, lenFirst):          \n",
    "        auxDist = distanceWeights(first[i], second[i])           \n",
    "        distance.append(auxDist)\n",
    "    return distance\n",
    "\n",
    "dataAgents = []\n",
    "def clustering():\n",
    "    kMeansCycle = True\n",
    "    k = 1\n",
    "\n",
    "    #data to cluster\n",
    "    dataAgents.clear()\n",
    "    for a in context.agentsPresent:\n",
    "        aux = []\n",
    "        for c in context.theme:\n",
    "            aux.append(a.personalCharacteristics[c])\n",
    "        dataAgents.append(aux)\n",
    "\n",
    "    lenAgents = len(dataAgents)\n",
    "\n",
    "    #iterative k means\n",
    "    while kMeansCycle:            \n",
    "        km = KMeans(n_clusters=k)\n",
    "        km = km.fit(dataAgents)\n",
    "        clustersLabels = km.labels_\n",
    "        clustersCentroids = km.cluster_centers_\n",
    "\n",
    "        centroidsList = []\n",
    "        #centroids list\n",
    "        for i in range(0, lenAgents):\n",
    "            centroidsList.append(clustersCentroids[clustersLabels[i]])\n",
    "\n",
    "        #distance of agents to centroid\n",
    "        distance = distanceToCentroids(dataAgents, centroidsList)\n",
    "\n",
    "        if any(dist > thresholdCluster for dist in distance):\n",
    "            k+=1\n",
    "        else:\n",
    "            kMeansCycle = False\n",
    "    \n",
    "    return (k, clustersLabels, clustersCentroids)\n",
    "                \n",
    "clustersCt = clustering()\n",
    "print(clustersCt)"
   ]
  },
  {
   "cell_type": "markdown",
   "id": "894820d0",
   "metadata": {},
   "source": [
    "In the following cells, we can see the plot with the agents' relevant characteristics and respective clusters.\n",
    "\n",
    "<b>Attention: </b> The following function was specified for when there are only 2 relevant characteristics in the context. However, more characteristics can be added to the environment by changing the appropriate input files <a href=\"#input-files\">here</a>."
   ]
  },
  {
   "cell_type": "code",
   "execution_count": 10,
   "id": "c77f4d50",
   "metadata": {},
   "outputs": [
    {
     "data": {
      "image/png": "[encoded data removed]",
      "text/plain": [
       "<Figure size 504x504 with 1 Axes>"
      ]
     },
     "metadata": {
      "needs_background": "light"
     },
     "output_type": "display_data"
    }
   ],
   "source": [
    "import matplotlib.pyplot as plt\n",
    "\n",
    "def printClustering():\n",
    "    fig = plt.figure(figsize = (7,7))\n",
    "    ax = fig.add_subplot(1, 1, 1)\n",
    "    ax.yaxis.set_major_locator(plt.MultipleLocator(0.1))\n",
    "    ax.xaxis.set_major_locator(plt.MultipleLocator(0.1))\n",
    "    ax.grid()\n",
    "        \n",
    "    lenColorsClusters = len(colors)\n",
    "    lenSymbolsAgents = len(plotSymbols)\n",
    "\n",
    "    for i in range(0, clustersCt[0]):\n",
    "        for j in range(0, len(dataAgents)):\n",
    "            if(clustersCt[1][j] == i):\n",
    "                #plotting the agents\n",
    "                name = context.agentsPresent[j].name\n",
    "                x = dataAgents[j][0]\n",
    "                y = dataAgents[j][1]\n",
    "                symbol = plotSymbols[j%lenSymbolsAgents]\n",
    "                color = colors[i%lenColorsClusters]\n",
    "                plt.scatter(x, y, c=color, marker=symbol, label=name)\n",
    "\n",
    "    #plotting the centroids\n",
    "    for c in range(0, len(clustersCt[2])):\n",
    "        x = clustersCt[2][c][0]\n",
    "        y = clustersCt[2][c][1]\n",
    "        plt.scatter(x, y, c='black')\n",
    "        plt.annotate(\"Cluster \" + str(c+1), (x, y))\n",
    "    \n",
    "    plt.title('Clusters of Agents')\n",
    "    themeKeys = list(context.theme)  \n",
    "    plt.xlabel(themeKeys[0])\n",
    "    plt.ylabel(themeKeys[1])\n",
    "    plt.legend(loc='center left', bbox_to_anchor=(1, 0.5), fancybox=True, shadow=True)           \n",
    "    plt.show()\n",
    "\n",
    "printClustering()"
   ]
  },
  {
   "cell_type": "markdown",
   "id": "dd00b599",
   "metadata": {},
   "source": [
    "### Normative Fit <a id=\"normativeFit\"></a>"
   ]
  },
  {
   "cell_type": "markdown",
   "id": "f5767daf",
   "metadata": {},
   "source": [
    "During the normative fit, each agent will attempt to identify the previous groups by verifying if they are present in their knowledge base or if they need to be added as a new social group.\n",
    "The centroids of each group/cluster and the prototypical characteristics of each social group known by the agent are compared. If this difference is below a given threshold, the cluster is identified as an instance of the social group. Otherwise, the cluster is added as a new social group."
   ]
  },
  {
   "cell_type": "markdown",
   "id": "fe34c105",
   "metadata": {},
   "source": [
    "<div id=\"norm-fit\"></div>\n",
    "We also computed the $dispersion$ of each cluster during this step to be used in the comparative fit step. The dispersion of a group is related to their intra-group differences and it can be computed by the <b>normalized average of absolute differences between each group member and the group's centroid</b>.\n",
    "\n",
    "$dispersion_{(sg_{i})} = \\frac{\\sum\\limits_{x=1}^{n} \\left|P_{a_x} - PT_{sg_{i}} \\right|}{n}, n = |A_{sg_i}|, a_{x} \\in A_{sg_i}$"
   ]
  },
  {
   "cell_type": "code",
   "execution_count": 11,
   "id": "69ec0457",
   "metadata": {},
   "outputs": [],
   "source": [
    "def dispersion(sg, agentsGroup): \n",
    "    diff = []\n",
    "    #only calculate dispersion with agents that belong to the group\n",
    "    for j in agentsGroup:\n",
    "        diff.append(distanceWeights(dataAgents[j], sg))\n",
    "    return np.mean(diff, axis=0)/thresholdNormative"
   ]
  },
  {
   "cell_type": "markdown",
   "id": "d449be21",
   "metadata": {},
   "source": [
    "Additionally, for clusters that are not present in the knowledge base, their accessibility needs to be initialized as well.\n",
    "The initial accessibility of a group is higher if the difference between an agent's values and the group's centroid is smaller. Then, accessibility should be initialized with the <b>complement value of the agent-group difference</b>.\n",
    "\n",
    "$acc _{(sg_i)_{t=0}} = 1 - \\left|P_{a_{x}} - PT_{(sg_{i})} \\right|, a_{x} \\in A$"
   ]
  },
  {
   "cell_type": "code",
   "execution_count": 12,
   "id": "8c41f85f",
   "metadata": {},
   "outputs": [],
   "source": [
    "def normalizeAccessibility(a):\n",
    "    sumAcc = 0\n",
    "    for sg in a.knowledgeBase:\n",
    "        sumAcc += sg.accessibility**2\n",
    "    normAcc = np.sqrt(sumAcc)\n",
    "    for sg in a.knowledgeBase:\n",
    "        sg.accessibility /= normAcc\n",
    "\n",
    "def initAccessibility(idxA, sg):\n",
    "    return 1 - distanceWeights(dataAgents[idxA], sg)"
   ]
  },
  {
   "cell_type": "markdown",
   "id": "a5a26a95",
   "metadata": {},
   "source": [
    "Finally, we can define the normative fit."
   ]
  },
  {
   "cell_type": "code",
   "execution_count": 13,
   "id": "36ce2d1b",
   "metadata": {},
   "outputs": [
    {
     "name": "stdout",
     "output_type": "stream",
     "text": [
      "Before Normative Fit\n",
      "[]\n",
      "After Normative Fit\n",
      "[<__main__.SocialGroup object at 0x0000026A1CBC1AF0>, <__main__.SocialGroup object at 0x0000026A1CBC1B20>]\n"
     ]
    }
   ],
   "source": [
    "def normativeFit(a, idxA):\n",
    "    #verify if the characteristics of the social groups in the KB match with the context's theme\n",
    "    matchSGs = []\n",
    "    for sg in a.knowledgeBase:\n",
    "        match = True\n",
    "        centroidSG = []\n",
    "        for t in context.theme:\n",
    "            if t not in sg.characteristics:\n",
    "                match = False\n",
    "                sg.type = 0\n",
    "            else:\n",
    "                centroidSG.append(sg.characteristics[t])\n",
    "        if match:\n",
    "            matchSGs.append([sg, centroidSG])\n",
    "            \n",
    "    \n",
    "    #distance centroids clusters to centroids social groups matching context KB\n",
    "    for i, c in enumerate(clustersCt[2]):\n",
    "        agentsGroup = []\n",
    "        for j, l in enumerate(clustersCt[1]):\n",
    "            if l == i:\n",
    "                agentsGroup.append(j)\n",
    "                \n",
    "        #get dispersion of cluster\n",
    "        dispersionGroup = dispersion(c, agentsGroup)\n",
    "        #get initial accessibility of cluster\n",
    "        accessibilityGroup = initAccessibility(idxA, c)\n",
    "\n",
    "        knownSG = False\n",
    "        for m in matchSGs:\n",
    "            #distance between cluster centroid and kb sg centroid\n",
    "            distClusterKB = distanceWeights(m[1], c)\n",
    "            #compare to threshold\n",
    "            if distClusterKB < thresholdNormative:\n",
    "                knownSG = True\n",
    "                m[0].dispersion = dispersionGroup\n",
    "                m[0].type = 1\n",
    "                if m[0].accessibility is None:\n",
    "                    m[0].accessibility = accessibilityGroup\n",
    "        #new social group in the KB\n",
    "        if not knownSG: \n",
    "            name = \"Group \" + (str(len(a.knowledgeBase) + 1))\n",
    "            newSGchar = {}\n",
    "            for idx, t in enumerate(context.theme):\n",
    "                newSGchar[t] = c[idx]\n",
    "            newSG = SocialGroup(name, newSGchar, accessibilityGroup)\n",
    "            newSG.dispersion = dispersionGroup\n",
    "            newSG.type = 1\n",
    "            a.knowledgeBase.append(newSG)\n",
    "    normalizeAccessibility(a)\n",
    "\n",
    "print(\"Before Normative Fit\")\n",
    "print(agents[0].knowledgeBase)\n",
    "print(\"After Normative Fit\")\n",
    "normativeFit(agents[0], 0)\n",
    "print(agents[0].knowledgeBase)\n"
   ]
  },
  {
   "cell_type": "markdown",
   "id": "42cc59ac",
   "metadata": {},
   "source": [
    "### Comparative Fit <a id=\"comparativeFit\"></a>"
   ]
  },
  {
   "cell_type": "markdown",
   "id": "38c2f446",
   "metadata": {},
   "source": [
    "In the comparative fit step, the fitness of each relevant social identity $si_i \\in SI_a$ in the agent's knowledge base is determined by the distance between groups <b>(inter-group differences)</b> and their dispersion <b>(intra-group differences)</b>:\n",
    "\n",
    "${fit}_{si_i}= f(distance_{(sg_{in}, sg_{out})}, dispersion_{(sg_{in})}, dispersion_{(sg_{out})}) = \n",
    "\\alpha (distance_{(sg_{in},sg_{out})}) + (1 - \\alpha)\\left[\\beta (1 - dispersion_{(sg_{in})}) + (1 - \\beta)(dispersion_{(sg_{out})})\\right]$\n",
    "\n",
    "The dispersion formula is described <a href=\"#norm-fit\">here</a>. The distance is computed by the <b>normalized difference between the in-group centroids and the out-group centroids</b>.\n",
    "Social groups with <b>higher fitness</b> have <b>less clustering dispersion</b> and <b>higher distance</b> from the other social groups.\n",
    "\n",
    "$distance_{(sg_{in},sg_{out})} = \\left|PT_{sg_{out}} - PT_{sg_{in}} \\right|$"
   ]
  },
  {
   "cell_type": "code",
   "execution_count": 14,
   "id": "97df3d18",
   "metadata": {},
   "outputs": [
    {
     "name": "stdout",
     "output_type": "stream",
     "text": [
      "Fitness Group 1\n",
      "0.5631609793429289\n",
      "Fitness Group 2\n",
      "0.6594736318195866\n"
     ]
    }
   ],
   "source": [
    "#we are assuming that there can be more than one out-group\n",
    "def dispersionCF(sg): \n",
    "    dispersion = []\n",
    "    for i in sg:\n",
    "        dispersion.append(i.dispersion)\n",
    "    return np.mean(dispersion, axis=0)\n",
    "\n",
    "def distanceCF(inGroup, outGroup):\n",
    "    centroidIn = []\n",
    "    for sg in inGroup:\n",
    "        ct = []\n",
    "        for c in sg.characteristics:\n",
    "            ct.append(sg.characteristics[c])\n",
    "        centroidIn.append(ct)\n",
    "    centroidOut = []\n",
    "    for sg in outGroup:\n",
    "        ct = []\n",
    "        for c in sg.characteristics:\n",
    "            ct.append(sg.characteristics[c])\n",
    "        centroidOut.append(ct)\n",
    "        \n",
    "    meanCentroidIn = np.mean(centroidIn, axis=0)\n",
    "    meanCentroidOut = np.mean(centroidOut, axis=0)\n",
    "    return distanceWeights(meanCentroidIn, meanCentroidOut)\n",
    "\n",
    "def comparativeFit(a):\n",
    "    presentGroups = []\n",
    "    #Get present groups only\n",
    "    for sg in a.knowledgeBase:\n",
    "        if sg.type == 1:\n",
    "            presentGroups.append(sg)\n",
    "            \n",
    "    #there is more than one social group\n",
    "    if (len(presentGroups)) > 1:\n",
    "        for idx, g in enumerate(presentGroups):\n",
    "            inGroup = [g]\n",
    "            outGroup = [x for i,x in enumerate(presentGroups) if i!=idx]    \n",
    "            #compute distance between in group and outgroup(s)\n",
    "            distanceBetweenGroups = distanceCF(inGroup, outGroup) #in case theres more than one outgroup (or ingroup)\n",
    "            #compute dispersion in group and out group(s)\n",
    "            dispersionInGroup = dispersionCF(inGroup)\n",
    "            dispersionOutGroup = dispersionCF(outGroup)\n",
    "            #compute fitness\n",
    "            fitness = comparativeFitAlpha * distanceBetweenGroups + ((1 - comparativeFitAlpha) * (comparativeFitBeta * (1 - dispersionInGroup) + (1 - comparativeFitBeta) * dispersionOutGroup)) \n",
    "            #update fitness for each sg\n",
    "            g.fitness = fitness\n",
    "    #only one social group - fitness is 0 - personal identity\n",
    "    else:\n",
    "        for g in presentGroups:\n",
    "            g.fitness = 0\n",
    "            \n",
    "comparativeFit(agents[0])\n",
    "print(\"Fitness \" + agents[0].knowledgeBase[0].name)\n",
    "print(agents[0].knowledgeBase[0].fitness)\n",
    "print(\"Fitness \" + agents[0].knowledgeBase[1].name)\n",
    "print(agents[0].knowledgeBase[1].fitness)\n"
   ]
  },
  {
   "cell_type": "markdown",
   "id": "04468438",
   "metadata": {},
   "source": [
    "### Salience <a id=\"salience\"></a>"
   ]
  },
  {
   "cell_type": "markdown",
   "id": "69c8a9e5",
   "metadata": {},
   "source": [
    "During these steps, the salience of each relevant identity in the agent's knowledge base needs to be computed given its fitness and accessibility values.\n",
    "\n",
    "$Salience(a, Ctx, SC): salience_{SI_a} = \\forall {si}({salience}_{si}), {si} \\in SI_a, a \\in A$\n",
    "\n",
    "${salience}_{si_i} = f ({fit}_{{si}_i}, {acc}_{{si}_i}) = fit_{si_{i}} \\times acc_{si_{i}}$\n",
    "\n",
    "The <b>salient social identity</b> for each agent is the one with the <b>maximum value of salience</b>.\n",
    "\n",
    "$SalientSocialIdentity(a, Ctx): {salSocialIdentity}_a = max(salience_{SI_a}), a \\in A$\n",
    "\n",
    "When making <b>actions and decisions</b>, agents will use their <b>personal identity</b> (if there is only one social group in the environment or if the maximum value of salience of their salient social identity is lower or equal to the threshold of the minimum salience), or their <b>salient social identity</b>. Agents will then redefine their self-concept based on this active identity, without ever losing their personal characteristics.\n",
    "\n",
    "$ActiveIdentity(a, SC): {activeIdentity}_a =\\begin{cases}\n",
    "{salSocialIdentity}_a\\text{,} & \\text{if $C1$ is $true$, $a \\in A$} \\\\\n",
    "{personalIdentity}_a\\text{,} & \\text{otherwise, $a \\in A$} \\\\\n",
    "\\end{cases}$\n",
    "\n",
    "$\\text{$C1$: }|SC| > 1 \\text{ and } salience_{salSocialIdentity_a} > tSalience$\n"
   ]
  },
  {
   "cell_type": "code",
   "execution_count": 15,
   "id": "3a5236a4",
   "metadata": {},
   "outputs": [
    {
     "name": "stdout",
     "output_type": "stream",
     "text": [
      "Salient Identity\n",
      "Group 1\n",
      "Salience\n",
      "0.5479380198021154\n"
     ]
    }
   ],
   "source": [
    "def salienceSocialGroup(a):\n",
    "    for sg in a.knowledgeBase:\n",
    "        if sg.type == 1:\n",
    "            fitness = sg.fitness\n",
    "            accessibility = sg.accessibility\n",
    "            #compute salience \n",
    "            salience = fitness * accessibility\n",
    "            #update salience for each sg\n",
    "            sg.salience = salience\n",
    "\n",
    "def salientActiveIdentity(a, idxAgent):\n",
    "    salienceVal = 0\n",
    "    identity = None\n",
    "    identityName = \"personal\"\n",
    "    presentGroups = []\n",
    "    #Get present groups only\n",
    "    for sg in a.knowledgeBase:\n",
    "        if sg.type == 1:\n",
    "            presentGroups.append(sg)\n",
    "    \n",
    "    #more than one social group - social identity\n",
    "    if len(presentGroups) > 1:\n",
    "        #find social identity with highest salience\n",
    "        for sg in presentGroups:\n",
    "            auxVal = sg.salience\n",
    "            if  auxVal > salienceVal:\n",
    "                salienceVal = auxVal\n",
    "                identity = sg\n",
    "        if salienceVal > thresholdMinimalSalience: #only updating salient social identity again if its salience is above or equal to threshold        \n",
    "            a.salientIdentity = identity\n",
    "        else:\n",
    "            a.salientIdentity = None\n",
    "    else:\n",
    "        a.salientIdentity = None\n",
    "        \n",
    "salienceSocialGroup(agents[0])\n",
    "salientActiveIdentity(agents[0], 0)\n",
    "if (agents[0].salientIdentity != None):\n",
    "    print(\"Salient Identity\")\n",
    "    print(agents[0].salientIdentity.name)\n",
    "    print(\"Salience\")\n",
    "    print(agents[0].salientIdentity.salience)\n"
   ]
  },
  {
   "cell_type": "markdown",
   "id": "510012e9",
   "metadata": {},
   "source": [
    "### Accessibility Update <a id=\"accUpdate\"></a>\n"
   ]
  },
  {
   "cell_type": "markdown",
   "id": "3842aff3",
   "metadata": {},
   "source": [
    "After performing an action or decision using a specific salient identity, each agent will update its accessibility. Then, the new accessibility value of an identity will be computed according to the previous accessibility and respective salience, being this function like a <b>reinforcement mechanism</b>. \n",
    "\n",
    "$acc_{(salSocialIdentity_a)_{t+1}} = f(acc_{(salSocialIdentity_a)_{t}}, salience_{(salSocialIdentity_a)_{t}}) = acc_{(salSocialIdentity_a)_{t}} + salience_{(salSocialIdentity_a)_{t}}$\n",
    "    \n",
    "In this stage, the accessibility values of all identities present in an agent's knowledge base must be normalized as well, so that when one identity's accessibility increases, all the others suffer a decay.\n",
    "This <b>update function can be altered depending on the scenarios</b> tested with the model."
   ]
  },
  {
   "cell_type": "code",
   "execution_count": 16,
   "id": "0026f38a",
   "metadata": {},
   "outputs": [
    {
     "name": "stdout",
     "output_type": "stream",
     "text": [
      "Previous accessibility\n",
      "0.9729687245757423\n",
      "0.2309369199531622\n",
      "New accessibility\n",
      "0.9732586294930159\n",
      "0.2297120809129905\n"
     ]
    }
   ],
   "source": [
    "def updateAccessibility(a, learningRate = 0.01):\n",
    "    sid = a.salientIdentity    \n",
    "    if sid is not None:\n",
    "        prevAccessibility = sid.accessibility\n",
    "        newAccessibility = prevAccessibility + sid.salience * learningRate\n",
    "        sid.accessibility = newAccessibility\n",
    "    normalizeAccessibility(a)\n",
    "        \n",
    "print(\"Previous accessibility\")\n",
    "print(agents[0].knowledgeBase[0].accessibility)\n",
    "print(agents[0].knowledgeBase[1].accessibility)\n",
    "updateAccessibility(agents[0])\n",
    "print(\"New accessibility\")\n",
    "print(agents[0].knowledgeBase[0].accessibility)\n",
    "print(agents[0].knowledgeBase[1].accessibility)"
   ]
  },
  {
   "cell_type": "markdown",
   "id": "985859cb",
   "metadata": {},
   "source": [
    "### Simulation Cycle <a id=\"simulation\"></a>"
   ]
  },
  {
   "cell_type": "markdown",
   "id": "6d8f529e",
   "metadata": {},
   "source": [
    "The following auxiliary functions are required for the plots."
   ]
  },
  {
   "cell_type": "code",
   "execution_count": 17,
   "id": "f0d38d4c",
   "metadata": {},
   "outputs": [],
   "source": [
    "def listGraphics(a, s):\n",
    "    for sg in a.knowledgeBase:\n",
    "        if sg.type == 1:\n",
    "            salience = sg.salience if sg.salience is not None else 0\n",
    "            accessibility = sg.accessibility if sg.accessibility is not None else 0\n",
    "            if sg.salienceSteps == []:\n",
    "                sg.salienceSteps = [0] * numSteps\n",
    "            if sg.accessibilitySteps == []:\n",
    "                sg.accessibilitySteps = [0] * numSteps\n",
    "            sg.salienceSteps[s] += salience\n",
    "            sg.accessibilitySteps[s] += accessibility\n",
    "        \n",
    "def clearSim():\n",
    "    for a in context.agentsPresent:\n",
    "        for sg in a.knowledgeBase:\n",
    "            if sg.type == 1:\n",
    "                sg.fitness = None\n",
    "                sg.accessibility = None\n",
    "                sg.salience = None\n"
   ]
  },
  {
   "cell_type": "markdown",
   "id": "d872fe58",
   "metadata": {},
   "source": [
    "The simulation cycle is implemented below and follows this order:\n",
    "\n",
    "$SC \\longleftarrow SocialCategorization(Ctx, A)$<br>\n",
    "for $r \\in \\{1, numRuns\\}$ do\n",
    "> for $s \\in \\{1, numSteps\\}$ do\n",
    ">> for $a \\in A$ do\n",
    ">>> $Salience(a, Ctx, SC)$<br>\n",
    ">>> $SalientSocialIdentity(a, Ctx)$<br>\n",
    ">>> $ActiveIdentity(a, SC)$<br>\n",
    ">>> $Action(a, Ctx)$<br>\n",
    ">>> $AccessibilityUpdate(a)$<br>\n"
   ]
  },
  {
   "cell_type": "code",
   "execution_count": 18,
   "id": "2172f4aa",
   "metadata": {},
   "outputs": [
    {
     "name": "stderr",
     "output_type": "stream",
     "text": [
      "C:\\Users\\Ines Lobo\\anaconda3\\lib\\site-packages\\sklearn\\cluster\\_kmeans.py:881: UserWarning: KMeans is known to have a memory leak on Windows with MKL, when there are less chunks than available threads. You can avoid it by setting the environment variable OMP_NUM_THREADS=1.\n",
      "  warnings.warn(\n"
     ]
    },
    {
     "name": "stdout",
     "output_type": "stream",
     "text": [
      "simulation 0\n",
      "simulation 1\n",
      "simulation 2\n",
      "simulation 3\n",
      "simulation 4\n",
      "simulation 5\n",
      "simulation 6\n",
      "simulation 7\n",
      "simulation 8\n",
      "simulation 9\n",
      "simulation 10\n",
      "simulation 11\n",
      "simulation 12\n",
      "simulation 13\n",
      "simulation 14\n",
      "simulation 15\n",
      "simulation 16\n",
      "simulation 17\n",
      "simulation 18\n",
      "simulation 19\n",
      "simulation 20\n",
      "simulation 21\n",
      "simulation 22\n",
      "simulation 23\n",
      "simulation 24\n",
      "simulation 25\n",
      "simulation 26\n",
      "simulation 27\n",
      "simulation 28\n",
      "simulation 29\n"
     ]
    }
   ],
   "source": [
    "#Restarting the simulation\n",
    "agents = initAgents(agentsFile)\n",
    "context = initContext(contextFile, agents)\n",
    "\n",
    "def cycle():\n",
    "    global clustersCt\n",
    "    clustersCt = clustering()\n",
    "    #Run simulation\n",
    "    for r in range(0, numRuns):\n",
    "        for s in range(0, numSteps):\n",
    "            #For each agent\n",
    "            for idxAgent, a in enumerate(context.agentsPresent):\n",
    "                normativeFit(a, idxAgent)\n",
    "                comparativeFit(a)\n",
    "                salienceSocialGroup(a)\n",
    "                salientActiveIdentity(a, idxAgent)\n",
    "                listGraphics(a, s)\n",
    "                #call scenario move here\n",
    "                updateAccessibility(a)\n",
    "        clearSim()\n",
    "        print(\"simulation \" + str(r))\n",
    "cycle()"
   ]
  },
  {
   "cell_type": "markdown",
   "id": "d48b5469",
   "metadata": {},
   "source": [
    "### Salience and Accessibility Plots <a id=\"plots\"></a>"
   ]
  },
  {
   "cell_type": "markdown",
   "id": "0d9f05e6",
   "metadata": {},
   "source": [
    "The following plots show how the salience and accessibility of each identity (present in each agent's knowledge base) vary throughout the simulation."
   ]
  },
  {
   "cell_type": "code",
   "execution_count": 19,
   "id": "8f1cd565",
   "metadata": {},
   "outputs": [
    {
     "name": "stdout",
     "output_type": "stream",
     "text": [
      "Salience Plots\n"
     ]
    },
    {
     "data": {
      "image/png": "[encoded data removed]",
      "text/plain": [
       "<Figure size 504x360 with 1 Axes>"
      ]
     },
     "metadata": {
      "needs_background": "light"
     },
     "output_type": "display_data"
    },
    {
     "data": {
      "image/png": "[encoded data removed]",
      "text/plain": [
       "<Figure size 504x360 with 1 Axes>"
      ]
     },
     "metadata": {
      "needs_background": "light"
     },
     "output_type": "display_data"
    },
    {
     "name": "stdout",
     "output_type": "stream",
     "text": [
      "Accessibility Plots\n"
     ]
    },
    {
     "data": {
      "image/png": "[encoded data removed]",
      "text/plain": [
       "<Figure size 504x360 with 1 Axes>"
      ]
     },
     "metadata": {
      "needs_background": "light"
     },
     "output_type": "display_data"
    },
    {
     "data": {
      "image/png": "[encoded data removed]",
      "text/plain": [
       "<Figure size 504x360 with 1 Axes>"
      ]
     },
     "metadata": {
      "needs_background": "light"
     },
     "output_type": "display_data"
    }
   ],
   "source": [
    "def showSalienceAccessibilityPlots(salience=True):\n",
    "    numGroups = len(clustersCt[2])\n",
    "    lenColors = len(colorsAgents)\n",
    "    for j in range(0, numGroups):\n",
    "        fig = plt.figure(figsize = (7,5))\n",
    "        ax = fig.add_subplot(1, 1, 1)\n",
    "        ax.yaxis.set_major_locator(plt.MultipleLocator(0.1))\n",
    "        ax.xaxis.set_major_locator(plt.MultipleLocator(5))\n",
    "        ax.grid()     \n",
    "        for i, a in enumerate(context.agentsPresent):\n",
    "            #plot - scale axis\n",
    "            sg = a.knowledgeBase[j]\n",
    "            salienceSims = [x / numRuns for x in sg.salienceSteps]\n",
    "            accessibilitySims = [x / numRuns for x in sg.accessibilitySteps] \n",
    "            colorPlot = colorsAgents[i%lenColors]\n",
    "            if salience:\n",
    "                plt.plot(salienceSims, color=colorPlot, label=a.name)\n",
    "            else:\n",
    "                plt.plot(accessibilitySims,'--', color=colorPlot, label=a.name)\n",
    "        if salience:\n",
    "            plt.title('Salience of Group ' + str(j+1))\n",
    "        else:\n",
    "            plt.title('Accessibility of Group ' + str(j+1))\n",
    "        plt.legend(loc='center left', bbox_to_anchor=(1, 0.5), fancybox=True, shadow=True)\n",
    "        plt.xlim(0, numSteps-1) \n",
    "        plt.ylim(0, 1)\n",
    "        plt.xlabel(\"Steps\")\n",
    "        if salience:\n",
    "            plt.ylabel(\"Salience\")\n",
    "        else:\n",
    "            plt.ylabel(\"Accessibility\")                \n",
    "        plt.show()\n",
    "\n",
    "print(\"Salience Plots\")\n",
    "showSalienceAccessibilityPlots(True)\n",
    "print(\"Accessibility Plots\")\n",
    "showSalienceAccessibilityPlots(False)\n"
   ]
  },
  {
   "cell_type": "markdown",
   "id": "33869405",
   "metadata": {},
   "source": [
    "## Conclusion <a id=\"conclusion\"></a>"
   ]
  },
  {
   "cell_type": "markdown",
   "id": "5dcee5f0",
   "metadata": {},
   "source": [
    "In this notebook, we presented the Dynamic Identity Model for Agents, a model grounded on the Social Identity Approach. We provided an overview of the model formalization, as well as a simple example of a simulation. We created another scenario using DIMA, that is available as an additional notebook on GitHub (TODO).\n",
    "\n",
    "For any questions, please feel free to contact us using this email: ines.lobo@tecnico.ulisboa.pt"
   ]
  }
 ],
 "metadata": {
  "kernelspec": {
   "display_name": "Python 3",
   "language": "python",
   "name": "python3"
  },
  "language_info": {
   "codemirror_mode": {
    "name": "ipython",
    "version": 3
   },
   "file_extension": ".py",
   "mimetype": "text/x-python",
   "name": "python",
   "nbconvert_exporter": "python",
   "pygments_lexer": "ipython3",
   "version": "3.8.8"
  }
 },
 "nbformat": 4,
 "nbformat_minor": 5
}
