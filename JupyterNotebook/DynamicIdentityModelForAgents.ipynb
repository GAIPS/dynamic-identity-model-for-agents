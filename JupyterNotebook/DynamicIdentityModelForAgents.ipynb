{
 "cells": [
  {
   "cell_type": "markdown",
   "id": "35b90562",
   "metadata": {},
   "source": [
    "<span>\n",
    "    <img src=\"https://www.inesc-id.pt/wp-content/uploads/2019/08/INESC-ID-new-logo_version-02A.png\" width=\"110px\" align=\"right\">\n",
    "    <img src=\"https://upload.wikimedia.org/wikipedia/pt/e/ed/IST_Logo.png\" width=\"40px\" align=\"right\">\n",
    "</span>\n",
    "<span>\n",
    "    <b>Authors:</b> Joana Dimas, Inês Lobo, Samuel Mascarenhas, Diogo Rato and Rui Prada <br/>\n",
    "    <b>Python version:</b> 3.8.8<br/>\n",
    "    <b>Scikit-learn version:</b> 0.24.1<br/>\n",
    "</span>"
   ]
  },
  {
   "cell_type": "markdown",
   "id": "d4122943",
   "metadata": {},
   "source": [
    "# Dynamic Identity Model For Agents\n",
    "\n"
   ]
  },
  {
   "cell_type": "markdown",
   "id": "2589d276",
   "metadata": {},
   "source": [
    "In this notebook, the Dynamic Identity Model for Agents is explained and implemented. <b>It is relevant to mention that this notebook is not 100% comprehensive</b>.\n",
    "\n",
    "## Table of Contents\n",
    "\n",
    "1. [Introduction](#introduction)\n",
    "    1. [Architecture](#architecture)\n",
    "2. [Context and Agents](#titlectx)\n",
    "    1. [Social Context](#socContext)\n",
    "    2. [Agents](#agent)\n",
    "    3. [Social Groups](#socialGroup)\n",
    "    4. [Instantiate](#instEnvironment)\n",
    "3. [Identity Salience Mechanism](#idSalienceMechanism)\n",
    "    1. [Social Categorization](#socCategorization)\n",
    "    2. [Normative Fit](#normativeFit)\n",
    "    3. [Comparative Fit](#comparativeFit)\n",
    "    4. [Salience](#salience)\n",
    "    5. [Accessibility Update](#accUpdate)\n",
    "    6. [Setup](#setup)\n",
    "    7. [Salience and Accessibility Plots](#plots)\n",
    "4. [Conclusion](#conclusion)\n"
   ]
  },
  {
   "cell_type": "markdown",
   "id": "49eeeffb",
   "metadata": {},
   "source": [
    "## Introduction <a id='introduction'></a>"
   ]
  },
  {
   "cell_type": "markdown",
   "id": "889758c3",
   "metadata": {},
   "source": [
    "The Dynamic Identity Model for Agents (DIMA) is based on the <b>Social Identity Approach</b>, aiming to provide agents with <b>multi-faceted and context-dependent identities</b>. Its architecture is shown in the figure below. This model has the <b>identity salience mechanism</b> at its center: agents can redefine their identity either as unique individuals (personal identity) or members of a social group (social identity), given their interpretation of the social environment. The active identity (including the salience value, if it corresponds to the salient social identity) will influence agents' decision making."
   ]
  },
  {
   "cell_type": "markdown",
   "id": "a2492f61",
   "metadata": {},
   "source": [
    "<h3 align=\"center\">DIMA Architecture</h3> <a id='architecture'></a>\n",
    "\n",
    "<img src=\"DIMA_figures/dima.png\" width=100% align=\"center\">"
   ]
  },
  {
   "cell_type": "markdown",
   "id": "5dbd94d1",
   "metadata": {},
   "source": [
    "## Context and Agents <a id='titlectx'></a>"
   ]
  },
  {
   "cell_type": "markdown",
   "id": "c115a46d",
   "metadata": {},
   "source": [
    "### Social Context <a id='socContext'></a>"
   ]
  },
  {
   "cell_type": "markdown",
   "id": "d52a9a00",
   "metadata": {},
   "source": [
    "The context $Ctx = (A,T)$ is defined by the present agents and the theme.\n",
    "\n",
    "The theme $T = \\{{c}_{1}, ...,{c}_{n}\\}, c \\in C$ highlights the characteristics relevant to the current situation. Additionally, each characteristic of the theme is assigned a weight, allowing to prioritize some characteristics over others."
   ]
  },
  {
   "cell_type": "code",
   "execution_count": 1,
   "id": "bfb3685c",
   "metadata": {
    "scrolled": false
   },
   "outputs": [],
   "source": [
    "class SocialContext:\n",
    "    def __init__(self, agentsPresent, theme):\n",
    "        self.agentsPresent = agentsPresent\n",
    "        self.theme = theme"
   ]
  },
  {
   "cell_type": "markdown",
   "id": "a27670a8",
   "metadata": {},
   "source": [
    "### Agents <a id='agent'></a>"
   ]
  },
  {
   "cell_type": "markdown",
   "id": "5a2c7910",
   "metadata": {},
   "source": [
    "\n",
    "As for the model's agents $A = \\{{a}_{1}, ...,{a}_{n}\\}$, each agent $a=(name_{a}, P_{a},{NSG}_{a}), a\\in A$ is represented by their name string, a set of personal characteristics, and a collection of normative social groups.\n",
    "\n",
    "The personal characteristics $P_a = \\{({c}_{1}, {v}_{1}), ...,({c}_{n}, {v}_{n})\\}, c \\in C, v \\in [0, 1]$ correspond to the finite set of characteristics that define the agent and their associated values. When interpreting the context, agents focus their perception on the relevant characteristics of the context, so the projection of $P_a$ in the context can be specified as $PI=P_{a_{Ctx}} = \\{({c}_{1}, {v}_{1}), ...,({c}_{n}, {v}_{n})\\}, c \\in T_{Ctx}, a_{Ctx} \\in A_{Ctx}$.\n",
    "\n",
    "The collection of normative groups $NSG_a = \\{{sg}_{1}, ..., {sg}_{n}\\}$ is a finite set of social identities known by the agent.\n"
   ]
  },
  {
   "cell_type": "code",
   "execution_count": 2,
   "id": "ced08c70",
   "metadata": {},
   "outputs": [],
   "source": [
    "class Agent:\n",
    "    def __init__(self, name, characteristics, normativeGroups, scenario = None):\n",
    "        self.name = name\n",
    "        self.personalCharacteristics = characteristics\n",
    "        self.normativeGroups = normativeGroups\n",
    "        self.scenario = scenario\n",
    "        \n",
    "        #for the rest of the model calculations \n",
    "        self.salientIdentity = None"
   ]
  },
  {
   "cell_type": "markdown",
   "id": "90a59962",
   "metadata": {},
   "source": [
    "### Social Groups <a id='socialGroup'></a>"
   ]
  },
  {
   "cell_type": "markdown",
   "id": "517cc522",
   "metadata": {},
   "source": [
    "A social group $sg= (name_{sg}, PT_{sg}, acc_{sg}), acc \\in [0, 1]$ is represented by a name, its prototypical characteristics, and accessibility value.\n",
    "\n",
    "The accessibility of a social group $acc_{sg}$ reveals how easy it is for the agent to recall this identity based on prior experiences.\n",
    "\n",
    "The prototypical characteristics $PT_{sg} = \\{({c}_{1}, {v}_{1}), ...,({c}_{n}, {v}_{n})\\}, c \\in C, v \\in [0, 1]$ correspond to the finite set of expected characteristics of a typical member of the group and their associated values. Their projection in the context can be defined as $PT_{sg_{Ctx}}$.\n"
   ]
  },
  {
   "cell_type": "code",
   "execution_count": 3,
   "id": "ab3ef6d8",
   "metadata": {},
   "outputs": [],
   "source": [
    "class SocialGroup:\n",
    "    def __init__(self, name, characteristics, accessibility, scenario = None):\n",
    "        self.name = name\n",
    "        self.characteristics = characteristics\n",
    "        self.accessibility = accessibility\n",
    "        \n",
    "        #for the rest of the model calculations\n",
    "        self.type = 0; #not present - 0, present - 1\n",
    "        self.dispersion = None;\n",
    "        self.fitness = None;\n",
    "        self.salience = None;\n",
    "        #for the plots\n",
    "        self.salienceSteps = []\n",
    "        self.accessibilitySteps = []\n",
    "        self.salienceFinalStep = []\n",
    "        self.accessibilityFinalStep = []"
   ]
  },
  {
   "cell_type": "markdown",
   "id": "547eb2f9",
   "metadata": {},
   "source": [
    "### Instantiate <a id='instEnvironment'></a>"
   ]
  },
  {
   "cell_type": "markdown",
   "id": "132e6e82",
   "metadata": {},
   "source": [
    "The DIMA input can be specified in two different JSON files.\n",
    "The following auxiliary function opens and loads the JSON input files. <div id=\"input-files\"></div>"
   ]
  },
  {
   "cell_type": "code",
   "execution_count": 4,
   "id": "dc909f94",
   "metadata": {},
   "outputs": [
    {
     "name": "stdout",
     "output_type": "stream",
     "text": [
      "{\n",
      "  \"agents\": [\n",
      "    {\n",
      "      \"name\": \"Ace\",\n",
      "      \"characteristics\": [\n",
      "        {\n",
      "          \"name\": \"intelligence\",\n",
      "          \"value\": 0.92\n",
      "        },\n",
      "        {\n",
      "          \"name\": \"charisma\",\n",
      "          \"value\": 0.1\n",
      "        }\n",
      "      ],\n",
      "      \"normativeGroups\": []\n",
      "    },\n",
      "    {\n",
      "      \"name\": \"Ben\",\n",
      "      \"characteristics\": [\n",
      "        {\n",
      "          \"name\": \"intelligence\",\n",
      "          \"value\": 0.7\n",
      "        },\n",
      "        {\n",
      "          \"name\": \"charisma\",\n",
      "          \"value\": 0.12\n",
      "        }\n",
      "      ],\n",
      "      \"normativeGroups\": []\n",
      "    },\n",
      "    {\n",
      "      \"name\": \"Cara\",\n",
      "      \"characteristics\": [\n",
      "        {\n",
      "          \"name\": \"intelligence\",\n",
      "          \"value\": 0.94\n",
      "        },\n",
      "        {\n",
      "          \"name\": \"charisma\",\n",
      "          \"value\": 0.15\n",
      "        }\n",
      "      ],\n",
      "      \"normativeGroups\": []\n",
      "    },\n",
      "    {\n",
      "      \"name\": \"Dan\",\n",
      "      \"characteristics\": [\n",
      "        {\n",
      "          \"name\": \"intelligence\",\n",
      "          \"value\": 0.8\n",
      "        },\n",
      "        {\n",
      "          \"name\": \"charisma\",\n",
      "          \"value\": 0.05\n",
      "        }\n",
      "      ],\n",
      "      \"normativeGroups\": []\n",
      "    },\n",
      "    {\n",
      "      \"name\": \"Edgar\",\n",
      "      \"characteristics\": [\n",
      "        {\n",
      "          \"name\": \"intelligence\",\n",
      "          \"value\": 0.96\n",
      "        },\n",
      "        {\n",
      "          \"name\": \"charisma\",\n",
      "          \"value\": 0.2\n",
      "        }\n",
      "      ],\n",
      "      \"normativeGroups\": []\n",
      "    },\n",
      "    {\n",
      "      \"name\": \"Felix\",\n",
      "      \"characteristics\": [\n",
      "        {\n",
      "          \"name\": \"intelligence\",\n",
      "          \"value\": 0.15\n",
      "        },\n",
      "        {\n",
      "          \"name\": \"charisma\",\n",
      "          \"value\": 0.9\n",
      "        }\n",
      "      ],\n",
      "      \"normativeGroups\": []\n",
      "    },\n",
      "    {\n",
      "      \"name\": \"Gabriel\",\n",
      "      \"characteristics\": [\n",
      "        {\n",
      "          \"name\": \"intelligence\",\n",
      "          \"value\": 0.11\n",
      "        },\n",
      "        {\n",
      "          \"name\": \"charisma\",\n",
      "          \"value\": 0.87\n",
      "        }\n",
      "      ],\n",
      "      \"normativeGroups\": []\n",
      "    },\n",
      "    {\n",
      "      \"name\": \"Harry\",\n",
      "      \"characteristics\": [\n",
      "        {\n",
      "          \"name\": \"intelligence\",\n",
      "          \"value\": 0.22\n",
      "        },\n",
      "        {\n",
      "          \"name\": \"charisma\",\n",
      "          \"value\": 0.92\n",
      "        }\n",
      "      ],\n",
      "      \"normativeGroups\": []\n",
      "    },\n",
      "    {\n",
      "      \"name\": \"Igor\",\n",
      "      \"characteristics\": [\n",
      "        {\n",
      "          \"name\": \"intelligence\",\n",
      "          \"value\": 0.15\n",
      "        },\n",
      "        {\n",
      "          \"name\": \"charisma\",\n",
      "          \"value\": 0.87\n",
      "        }\n",
      "      ],\n",
      "      \"normativeGroups\": []\n",
      "    },\n",
      "    {\n",
      "      \"name\": \"Jane\",\n",
      "      \"characteristics\": [\n",
      "        {\n",
      "          \"name\": \"intelligence\",\n",
      "          \"value\": 0.19\n",
      "        },\n",
      "        {\n",
      "          \"name\": \"charisma\",\n",
      "          \"value\": 0.93\n",
      "        }\n",
      "      ],\n",
      "      \"normativeGroups\": []\n",
      "    }\n",
      "  ]\n",
      "}\n",
      "{\n",
      "  \"context\": {\n",
      "    \"theme\": [\n",
      "      {\n",
      "        \"name\": \"intelligence\",\n",
      "        \"weight\": 0.5\n",
      "      },\n",
      "      {\n",
      "        \"name\": \"charisma\",\n",
      "        \"weight\": 0.5\n",
      "      }\n",
      "    ],\n",
      "    \"agentsPresent\": [\n",
      "      \"Ace\",\n",
      "      \"Ben\",\n",
      "      \"Cara\",\n",
      "      \"Dan\",\n",
      "      \"Edgar\",\n",
      "      \"Felix\",\n",
      "      \"Gabriel\",\n",
      "      \"Harry\",\n",
      "      \"Igor\",\n",
      "      \"Jane\"\n",
      "    ]\n",
      "  }\n",
      "}\n"
     ]
    }
   ],
   "source": [
    "import json\n",
    "    \n",
    "def readJSONFile(file):\n",
    "    data = None\n",
    "    try:\n",
    "        # open JSON file\n",
    "        f = open(file)\n",
    "        # returns JSON object as a dictionary\n",
    "        data = json.load(f)\n",
    "    except:\n",
    "        print(\"Problem opening or loading file!\")\n",
    "    return data\n",
    "\n",
    "#Change files here\n",
    "agentsFile = \"agents.json\"\n",
    "print(json.dumps(readJSONFile(agentsFile), indent=2))\n",
    "contextFile = \"context.json\"\n",
    "print(json.dumps(readJSONFile(contextFile), indent=2))\n"
   ]
  },
  {
   "cell_type": "markdown",
   "id": "22c2516e",
   "metadata": {},
   "source": [
    "The functions below are used to initialize the agents and the context."
   ]
  },
  {
   "cell_type": "code",
   "execution_count": 5,
   "id": "a4b65be3",
   "metadata": {},
   "outputs": [],
   "source": [
    "def initAgents(file):\n",
    "    agents = []\n",
    "    data = readJSONFile(file)\n",
    "    if data is not None:\n",
    "        for a in data['agents']:\n",
    "            nameA = a['name']\n",
    "            charA = {}\n",
    "            kbA = []\n",
    "            for c in a['characteristics']:\n",
    "                charA[c['name']] = c['value']\n",
    "            for sg in a['normativeGroups']:\n",
    "                nameSG = sg['name']\n",
    "                charSG = {}\n",
    "                accessibility = sg['accessibility']\n",
    "                for c in sg['characteristics']:\n",
    "                    charSG[c['name']] = c['value']\n",
    "                kbA.append(SocialGroup(nameSG, charSG, accessibility))\n",
    "            agents.append(Agent(nameA, charA, kbA))\n",
    "    return agents\n",
    "    \n",
    "def initContext(file, agents):\n",
    "    data = readJSONFile(file)\n",
    "    if data is not None:\n",
    "        theme = {}\n",
    "        for t in data['context']['theme']:\n",
    "            theme[t['name']] = t['weight']\n",
    "\n",
    "        agentsCtxNames = data['context']['agentsPresent']\n",
    "        agentsCtx = []\n",
    "        for a in agents:\n",
    "            if a.name in agentsCtxNames:\n",
    "                agentsCtx.append(a)\n",
    "\n",
    "        return SocialContext(agentsCtx, theme)\n"
   ]
  },
  {
   "cell_type": "markdown",
   "id": "3a1c90d4",
   "metadata": {},
   "source": [
    "Then, we can call the functions above giving as arguments the appropriate input files."
   ]
  },
  {
   "cell_type": "code",
   "execution_count": 6,
   "id": "492963f0",
   "metadata": {},
   "outputs": [
    {
     "name": "stdout",
     "output_type": "stream",
     "text": [
      "There are 10 agents present.\n",
      "Relevant characteristics are intelligence, charisma."
     ]
    }
   ],
   "source": [
    "agents = initAgents(agentsFile)\n",
    "context = initContext(contextFile, agents)\n",
    "\n",
    "print(\"There are \" + str(len(context.agentsPresent)) + \" agents present.\")\n",
    "print(\"Relevant characteristics are\", end = \" \")\n",
    "lenTheme = len(context.theme)\n",
    "i = 0\n",
    "for c in context.theme:\n",
    "    if i == lenTheme - 1: print(c , end = \".\")\n",
    "    else: print(c , end = \", \")\n",
    "    i += 1"
   ]
  },
  {
   "cell_type": "markdown",
   "id": "d102f80a",
   "metadata": {},
   "source": [
    "## Identity Salience Mechanism <a id=\"idSalienceMechanism\"></a>"
   ]
  },
  {
   "cell_type": "markdown",
   "id": "1ee76302",
   "metadata": {},
   "source": [
    "Given the context, a DIMA agent follows a collection of specific steps to determine their active identity: <b>Social Clustering, Normative Fit, Comparative Fit, Salience Computation, and Identity Re-definition</b>. This identity will guide the agent's decision-making process. Following their actions, the <b>accessibility</b> values of their normative groups may also be <b>updated</b>. "
   ]
  },
  {
   "cell_type": "code",
   "execution_count": 7,
   "id": "fb523996",
   "metadata": {},
   "outputs": [],
   "source": [
    "#Identity Salience Variables\n",
    "#Clustering        \n",
    "thresholdCluster = 0.3\n",
    "#Normative Fit\n",
    "thresholdNormative = 0.2\n",
    "#Salience\n",
    "thresholdMinimalSalience = 0.2\n",
    "\n",
    "#For Plots\n",
    "import matplotlib.pyplot as plt\n",
    "plt.rcParams['font.size'] = 12\n",
    "plt.rcParams['font.family'] = 'sans-serif'\n",
    "plt.rcParams['font.sans-serif'] = ['Bahnschrift']\n",
    "plt.rcParams[\"font.weight\"] = \"normal\"\n",
    "plotSymbols = [\"o\", \"v\", \"H\", \"*\", \"X\", \"d\", \"P\", \"s\", \"D\", \"p\"]\n",
    "colors = [\"orange\", \"deepskyblue\"]\n",
    "colorsAgents = [\"yellow\", \"aqua\", \"green\", \"pink\", \"brown\", \"darkorange\", \"purple\", \"gray\", \"olive\", \"magenta\"]\n",
    "\n",
    "def plotStyle(plot):\n",
    "    plot.grid(color='gray', linewidth=1.0)\n",
    "    plot.spines['top'].set_visible(False)\n",
    "    plot.spines['right'].set_visible(False)\n",
    "    plot.spines['bottom'].set_visible(False)\n",
    "    plot.spines['left'].set_visible(False)"
   ]
  },
  {
   "cell_type": "markdown",
   "id": "386cd568",
   "metadata": {},
   "source": [
    "In several steps of the identity salience cycle, we have to compute the distance between two points, containing characteristics' values. Then, we created an auxiliary function for that purpose.\n",
    "We used a <b>weighted euclidean distance</b>, taking into consideration the weights given for each relevant characteristic in the context's theme."
   ]
  },
  {
   "cell_type": "code",
   "execution_count": 8,
   "id": "2ef423f9",
   "metadata": {},
   "outputs": [
    {
     "name": "stdout",
     "output_type": "stream",
     "text": [
      "1.0\n",
      "0.41231056256176607\n"
     ]
    }
   ],
   "source": [
    "import math\n",
    "import os\n",
    "os.environ[\"MKL_NUM_THREADS\"] = \"1\" \n",
    "os.environ[\"NUMEXPR_NUM_THREADS\"] = \"1\" \n",
    "os.environ[\"OMP_NUM_THREADS\"] = \"1\" \n",
    "import numpy as np\n",
    "\n",
    "contextWeights = []\n",
    "for c in context.theme:\n",
    "    contextWeights.append(context.theme[c])\n",
    "        \n",
    "def distanceWeights(first, second):\n",
    "    lenWeights = len(contextWeights)\n",
    "    #when theme is empty\n",
    "    if lenWeights == 0:\n",
    "        lenWeights = len(first)  \n",
    "    lDist = abs(np.array(first)-np.array(second))\n",
    "    auxDist = 0\n",
    "    #weighted euclidean distance\n",
    "    for i in range(0, lenWeights):\n",
    "        w = 0.5 #when theme is empty\n",
    "        if len(contextWeights) > 0:\n",
    "            w = contextWeights[i]\n",
    "        auxDist += w * (lDist[i])**2 \n",
    "    dist = math.sqrt(auxDist)\n",
    "    return dist\n",
    "\n",
    "#Examples\n",
    "print(distanceWeights([0, 1], [1, 0]))\n",
    "print(distanceWeights([0.1, 0.8], [0.4, 0.3]))"
   ]
  },
  {
   "cell_type": "markdown",
   "id": "4fa1428b",
   "metadata": {},
   "source": [
    "### Social Clustering <a id=\"socCategorization\"></a>"
   ]
  },
  {
   "cell_type": "markdown",
   "id": "d810957c",
   "metadata": {},
   "source": [
    "In the social clustering phase, the goal is to <b>identify the social clusters</b> present in the social environment. These correspond to disjoint subsets of the context-filtered version of the agents.\n",
    "\n",
    "$SC = SocialClustering(Ctx, A) = \\{sc_1, ..., sc_n\\}, sc \\subseteq A_{Ctx}, \\bigcap_{i=1}^{n}{sc}_{i} = \\emptyset$\n",
    "\n",
    "For this step, we used an <b>iterative K-Means</b> algorithm, following a distance threshold heuristic."
   ]
  },
  {
   "cell_type": "code",
   "execution_count": 9,
   "id": "472ee371",
   "metadata": {},
   "outputs": [
    {
     "name": "stdout",
     "output_type": "stream",
     "text": [
      "(2, array([1, 1, 1, 1, 1, 0, 0, 0, 0, 0]), array([[0.164, 0.898],\n",
      "       [0.864, 0.124]]))\n"
     ]
    }
   ],
   "source": [
    "from sklearn.cluster import KMeans\n",
    "\n",
    "def distanceToCentroids(first, second):\n",
    "    distance = []\n",
    "    lenFirst = len(first)\n",
    "    for i in range(0, lenFirst):          \n",
    "        auxDist = distanceWeights(first[i], second[i])           \n",
    "        distance.append(auxDist)\n",
    "    return distance\n",
    "\n",
    "dataAgents = []\n",
    "def clustering():\n",
    "    kMeansCycle = True\n",
    "    k = 1\n",
    "\n",
    "    #data to cluster\n",
    "    dataAgents.clear()\n",
    "    for a in context.agentsPresent:\n",
    "        aux = []\n",
    "        theme = context.theme\n",
    "        #when theme is empty\n",
    "        if len(theme) == 0:\n",
    "            theme = a.personalCharacteristics\n",
    "        for c in theme:\n",
    "            aux.append(a.personalCharacteristics[c])\n",
    "        dataAgents.append(aux)\n",
    "\n",
    "    lenAgents = len(dataAgents)\n",
    "\n",
    "    #iterative k means\n",
    "    while kMeansCycle:            \n",
    "        km = KMeans(n_clusters=k,random_state=0)\n",
    "        km = km.fit(dataAgents)\n",
    "        clustersLabels = km.labels_\n",
    "        clustersCentroids = km.cluster_centers_\n",
    "\n",
    "        centroidsList = []\n",
    "        #centroids list\n",
    "        for i in range(0, lenAgents):\n",
    "            centroidsList.append(clustersCentroids[clustersLabels[i]])\n",
    "        \n",
    "        if len(context.theme) > 0:\n",
    "            #distance of agents to centroid\n",
    "            distance = distanceToCentroids(dataAgents, centroidsList)\n",
    "\n",
    "            if any(dist > thresholdCluster for dist in distance):\n",
    "                k+=1\n",
    "            else:\n",
    "                kMeansCycle = False\n",
    "        else: #when theme is empty\n",
    "            kMeansCycle = False\n",
    "    \n",
    "    return (k, clustersLabels, clustersCentroids)\n",
    "                \n",
    "clustersCt = clustering()\n",
    "print(clustersCt)"
   ]
  },
  {
   "cell_type": "markdown",
   "id": "894820d0",
   "metadata": {},
   "source": [
    "In the following cells, we can see the plot with the agents' relevant characteristics and respective clusters.\n",
    "\n",
    "<b>Attention: </b> The following function was specified for when there are only 2 relevant characteristics in the context. However, more characteristics can be added to the environment by changing the appropriate input files <a href=\"#input-files\">here</a>."
   ]
  },
  {
   "cell_type": "code",
   "execution_count": 10,
   "id": "c77f4d50",
   "metadata": {},
   "outputs": [
    {
     "data": {
      "image/png": "[encoded data removed]",
      "text/plain": [
       "<Figure size 504x360 with 1 Axes>"
      ]
     },
     "metadata": {
      "needs_background": "light"
     },
     "output_type": "display_data"
    }
   ],
   "source": [
    "def printClustering():\n",
    "    fig = plt.figure(figsize = (7,5))\n",
    "    ax = fig.add_subplot(1, 1, 1)\n",
    "    ax.yaxis.set_major_locator(plt.MultipleLocator(0.1))\n",
    "    ax.xaxis.set_major_locator(plt.MultipleLocator(0.1))\n",
    "    plotStyle(ax)\n",
    "    \n",
    "    lenColorsClusters = len(colors)\n",
    "    lenSymbolsAgents = len(plotSymbols)\n",
    "    for i in range(0, clustersCt[0]):\n",
    "        x = []\n",
    "        y = []\n",
    "        symbol = plotSymbols[i%lenSymbolsAgents]\n",
    "        for j in range(0, len(dataAgents)):\n",
    "            if(clustersCt[1][j] == i):\n",
    "                #plotting the agents\n",
    "                x.append(dataAgents[j][0])\n",
    "                y.append(dataAgents[j][1])\n",
    "        color = colors[i%lenColorsClusters]\n",
    "        plt.scatter(x, y, c=color, marker=symbol, s = 50, label=\"Agents in Social Cluster \" + str(i+1))\n",
    "\n",
    "    #plotting the centroids\n",
    "    for c in range(0, len(clustersCt[2])):\n",
    "        x = clustersCt[2][c][0]\n",
    "        y = clustersCt[2][c][1]\n",
    "        plt.scatter(x, y, marker='X', s = 50, c='black')\n",
    "        plt.annotate(\"Center SC \" + str(c+1), (x, y+0.01), ha='center')\n",
    "        plt.annotate(\"(\" + str(np.around(x,2)) + \", \" + str(np.around(y,2)) +\")\", (x, y-0.05), ha='center')\n",
    "\n",
    "    plt.title('Social Clusters in the Environment:\\nResult from the interpretation of the social context')\n",
    "    theme = context.theme\n",
    "    if len(theme) == 0:\n",
    "        theme = context.agentsPresent[0].personalCharacteristics\n",
    "    themeKeys = list(theme)  \n",
    "    plt.xlabel(themeKeys[0])\n",
    "    plt.ylabel(themeKeys[1])\n",
    "    plt.legend(fancybox=True)           \n",
    "    plt.show()\n",
    "\n",
    "\n",
    "printClustering()"
   ]
  },
  {
   "cell_type": "markdown",
   "id": "dd00b599",
   "metadata": {},
   "source": [
    "### Normative Fit <a id=\"normativeFit\"></a>"
   ]
  },
  {
   "cell_type": "markdown",
   "id": "f5767daf",
   "metadata": {},
   "source": [
    "During the normative fit, each agent will attempt to <b>identify the previous clusters</b> by verifying if they are <b>similar</b> to any group in their collection of <b>normative groups</b>.\n",
    "The centroids of each cluster and the projection in the context of the prototypical characteristics of each normative group are compared. If this difference is below a given threshold, the cluster is identified as an instance of its closest normative group. \n",
    "\n",
    "$si_i = {NormativeFit(sc_i)} = \n",
    "\\begin{cases} \n",
    "argmin(distance(sc_i,\\forall_{sg \\in NSG} sg))\\text{, if $distance < tNormative$} \\\\ \n",
    "\\emptyset\\text{, otherwise} \\\\\n",
    "\\end{cases}$"
   ]
  },
  {
   "cell_type": "markdown",
   "id": "fe34c105",
   "metadata": {},
   "source": [
    "<div id=\"norm-fit\"></div>\n",
    "We also computed the $dispersion$ of each cluster during this step to be used in the comparative fit step. The dispersion of a group is related to their intra-group differences and it can be computed by the <b>normalized average of absolute differences between the projection in the context of the personal characteristics of each group member and the group's centroid </b>(or context-filtered prototypical characteristics if it is a normative group).\n",
    "\n",
    "$dispersion{(sg_{i})} = \\frac{\\sum\\limits_{x=1}^{n} \\left|P_{{a_x}_{Ctx}} - centroid({sg_{i}}) \\right|}{n}, n = |A_{sg_i}|, a \\in A_{sg_i}$"
   ]
  },
  {
   "cell_type": "code",
   "execution_count": 11,
   "id": "69ec0457",
   "metadata": {},
   "outputs": [],
   "source": [
    "def dispersion(sg, agentsGroup): \n",
    "    diff = []\n",
    "    #only calculate dispersion with agents that belong to the group\n",
    "    for j in agentsGroup:\n",
    "        diff.append(distanceWeights(dataAgents[j], sg))\n",
    "    return np.mean(diff, axis=0)/thresholdNormative"
   ]
  },
  {
   "cell_type": "markdown",
   "id": "a5a26a95",
   "metadata": {},
   "source": [
    "Finally, we can define the normative fit."
   ]
  },
  {
   "cell_type": "code",
   "execution_count": 12,
   "id": "36ce2d1b",
   "metadata": {},
   "outputs": [
    {
     "name": "stdout",
     "output_type": "stream",
     "text": [
      "Before Normative Fit\n",
      "[]\n",
      "After Normative Fit\n",
      "[<__main__.SocialGroup object at 0x0000023B445EAB50>, <__main__.SocialGroup object at 0x0000023B445EA550>]\n"
     ]
    }
   ],
   "source": [
    "def normativeFit(a, idxA):\n",
    "    #verify if the characteristics of the normative social groups match with the context's theme\n",
    "    matchSGs = []\n",
    "    for sg in a.normativeGroups:\n",
    "        match = True\n",
    "        centroidSG = []\n",
    "        theme = context.theme\n",
    "        #when theme is empty\n",
    "        if len(theme) == 0:\n",
    "            theme = a.personalCharacteristics\n",
    "        for t in theme:\n",
    "            if t not in sg.characteristics:\n",
    "                match = False\n",
    "                sg.type = 0\n",
    "            else:\n",
    "                centroidSG.append(sg.characteristics[t])\n",
    "        if match:\n",
    "            matchSGs.append([sg, centroidSG])\n",
    "            \n",
    "    \n",
    "    #distance centroids clusters to centroids social groups matching context KB\n",
    "    for i, c in enumerate(clustersCt[2]):\n",
    "        agentsGroup = []\n",
    "        for j, l in enumerate(clustersCt[1]):\n",
    "            if l == i:\n",
    "                agentsGroup.append(j)\n",
    "                \n",
    "        #get dispersion of cluster\n",
    "        dispersionGroup = dispersion(c, agentsGroup)\n",
    "        \n",
    "        #initial accessibility\n",
    "        initAcc = 1 - distanceWeights(dataAgents[idxA], c)\n",
    "        \n",
    "        knownSG = False\n",
    "        for m in matchSGs:\n",
    "            #distance between cluster centroid and kb sg centroid\n",
    "            distClusterKB = distanceWeights(m[1], c)\n",
    "            #compare to threshold\n",
    "            if distClusterKB < thresholdNormative:\n",
    "                knownSG = True\n",
    "                m[0].dispersion = dispersionGroup\n",
    "                m[0].type = 1\n",
    "                if m[0].accessibility is None:\n",
    "                    m[0].accessibility = initAcc\n",
    "\n",
    "        #new normative group (will only be considered as normative group in the next time step)\n",
    "        if not knownSG: \n",
    "            name = \"Group \" + (str(len(a.normativeGroups) + 1))\n",
    "            newSGchar = {}\n",
    "            theme = context.theme\n",
    "            if len(theme) == 0:\n",
    "                theme = a.personalCharacteristics\n",
    "            for idx, t in enumerate(theme):\n",
    "                newSGchar[t] = c[idx]\n",
    "            newSG = SocialGroup(name, newSGchar, initAcc)\n",
    "            newSG.dispersion = dispersionGroup\n",
    "            newSG.type = 1\n",
    "            a.normativeGroups.append(newSG)\n",
    "\n",
    "print(\"Before Normative Fit\")\n",
    "print(agents[0].normativeGroups)\n",
    "print(\"After Normative Fit\")\n",
    "normativeFit(agents[0], 0)\n",
    "print(agents[0].normativeGroups)\n"
   ]
  },
  {
   "cell_type": "markdown",
   "id": "d449be21",
   "metadata": {},
   "source": [
    "It is relevant to mention that ad-hoc groups (i.e., the agent does not have previous knowledge or past experiences with these groups) were already added to the agent's collection of normative groups in the previous code to simplify our model implementation. However, they are only considered normative for the following time this mechanism is executed. We will explain this update with more detail <a href=\"#init-acc\">here</a>, as well as how this affects the salience computation.\n",
    "\n",
    "$NSG = NSG \\cup newsg: newsg = (randName, centroid(sc_i) , acc_{t=0})\n",
    "$\n",
    "\n"
   ]
  },
  {
   "cell_type": "markdown",
   "id": "42cc59ac",
   "metadata": {},
   "source": [
    "### Comparative Fit <a id=\"comparativeFit\"></a>"
   ]
  },
  {
   "cell_type": "markdown",
   "id": "38c2f446",
   "metadata": {},
   "source": [
    "In the comparative fit step, the fitness of a particular social identity is determined by the distance between groups <b>(inter-group differences)</b> and their dispersion <b>(intra-group differences)</b>:\n",
    "\n",
    "${fit}({si_i})= f(distance(sg_{in}, sg_{out}), dispersion(sg_{in}), dispersion(sg_{out})) = \n",
    " \\frac{distance(sg_{in},sg_{out})}{2} + \\frac{(1 - dispersion{(sg_{in})}) + dispersion{(sg_{out})}}{4}:fit \\in [0,1]$\n",
    "\n",
    "The dispersion formula is described <a href=\"#norm-fit\">here</a>. The distance is computed by the <b>normalized difference between the in-group centroids and the out-group centroids</b> (or their context-filtered prototypical characteristics, if they are normative groups).\n",
    "Social groups with <b>higher fitness</b> have <b>less clustering dispersion</b> and <b>higher distance</b> from the other social groups.\n",
    "\n",
    "$distance{(sg_{in},sg_{out})} = \\left|centroid({sg_{out}}) - centroid({sg_{in}}) \\right|$"
   ]
  },
  {
   "cell_type": "code",
   "execution_count": 13,
   "id": "97df3d18",
   "metadata": {},
   "outputs": [
    {
     "name": "stdout",
     "output_type": "stream",
     "text": [
      "Fitness Group 1\n",
      "0.675162377156659\n",
      "Fitness Group 2\n",
      "0.5627658036306042\n"
     ]
    }
   ],
   "source": [
    "#we are assuming that there can be more than one out-group\n",
    "def dispersionCF(sg): \n",
    "    dispersion = []\n",
    "    for i in sg:\n",
    "        dispersion.append(i.dispersion)\n",
    "    return np.mean(dispersion, axis=0)\n",
    "\n",
    "def distanceCF(inGroup, outGroup):\n",
    "    centroidIn = []\n",
    "    for sg in inGroup:\n",
    "        ct = []\n",
    "        for c in sg.characteristics:\n",
    "            ct.append(sg.characteristics[c])\n",
    "        centroidIn.append(ct)\n",
    "    centroidOut = []\n",
    "    for sg in outGroup:\n",
    "        ct = []\n",
    "        for c in sg.characteristics:\n",
    "            ct.append(sg.characteristics[c])\n",
    "        centroidOut.append(ct)\n",
    "        \n",
    "    meanCentroidIn = np.mean(centroidIn, axis=0)\n",
    "    meanCentroidOut = np.mean(centroidOut, axis=0)\n",
    "    return distanceWeights(meanCentroidIn, meanCentroidOut)\n",
    "\n",
    "def comparativeFit(a):\n",
    "    presentGroups = []\n",
    "    #Get present groups only\n",
    "    for sg in a.normativeGroups:\n",
    "        if sg.type == 1:\n",
    "            presentGroups.append(sg)\n",
    "            \n",
    "    #there is more than one social group\n",
    "    if (len(presentGroups)) > 1:\n",
    "        for idx, g in enumerate(presentGroups):\n",
    "            inGroup = [g]\n",
    "            outGroup = [x for i,x in enumerate(presentGroups) if i!=idx]    \n",
    "            #compute distance between in group and outgroup(s)\n",
    "            distanceBetweenGroups = distanceCF(inGroup, outGroup) #in case theres more than one outgroup (or ingroup)\n",
    "            #compute dispersion in group and out group(s)\n",
    "            dispersionInGroup = dispersionCF(inGroup)\n",
    "            dispersionOutGroup = dispersionCF(outGroup)\n",
    "            #compute fitness\n",
    "            fitness = distanceBetweenGroups/2 + ((1 - dispersionInGroup) + dispersionOutGroup)/4\n",
    "            #update fitness for each sg\n",
    "            g.fitness = fitness\n",
    "    #only one social group - fitness is 0 - personal identity\n",
    "    else:\n",
    "        for g in presentGroups:\n",
    "            g.fitness = 0\n",
    "            \n",
    "comparativeFit(agents[0])\n",
    "print(\"Fitness \" + agents[0].normativeGroups[0].name)\n",
    "print(agents[0].normativeGroups[0].fitness)\n",
    "print(\"Fitness \" + agents[0].normativeGroups[1].name)\n",
    "print(agents[0].normativeGroups[1].fitness)\n"
   ]
  },
  {
   "cell_type": "markdown",
   "id": "04468438",
   "metadata": {},
   "source": [
    "### Salience <a id=\"salience\"></a>"
   ]
  },
  {
   "cell_type": "markdown",
   "id": "69c8a9e5",
   "metadata": {},
   "source": [
    "Following the social clustering, the salience of each cluster in the environment needs to be computed given its fitness (formulas defined previously) and accessibility values.\n",
    "\n",
    "$Salience(sc_i) = f ({fit}({si}_i), {acc}({si}_i)) = fit(si_{i}) \\times acc(si_{i}), sc \\in SC, si \\in NSG:Salience \\in [0,1]$\n",
    "\n",
    "The <b>salient social identity</b> for each agent is the one with the <b>maximum value of salience</b>.\n",
    "\n",
    "$SSI = argmax(\\forall_{sc \\in SC} Salience(sc))$\n",
    "\n",
    "When making <b>actions and decisions</b>, agents will use their <b>personal identity</b> (if there is only one social group in the environment, meaning that no social identity is salient; or if the value of salience of the salient social identity is lower or equal to the threshold of the minimum salience), or their <b>salient social identity</b>. Agents will then redefine their self-concept based on this active identity, without ever losing their personal characteristics.\n",
    "\n",
    "$AI = {ActiveIdentity(PI, SSI)} = \n",
    "\\begin{cases}\n",
    "PI\\text{,} & \\text{if } SSI == \\emptyset \\text{ or } Salience(SSI) \\leq tSalience \\\\ \n",
    "SSI \\text{,} & \\text{otherwise} \\\\\n",
    "\\end{cases}$\n"
   ]
  },
  {
   "cell_type": "markdown",
   "id": "8029d8fb",
   "metadata": {},
   "source": [
    "If the cluster for which we are computing the salience is not normative, and thus no initial value of accessibility is available, its salience should be computed as the fitness multiplied by a value indicating how close the agent is from that cluster: the complement of the distance between the agent's context-filtered characteristics and the cluster's centroid. Its accessibility should also be initialized in the collection of normative groups with this value. (To simplify our code, we already initialized the accessibility during the normative fit). <div id=\"init-acc\"></div>\n"
   ]
  },
  {
   "cell_type": "code",
   "execution_count": 14,
   "id": "3a5236a4",
   "metadata": {},
   "outputs": [
    {
     "name": "stdout",
     "output_type": "stream",
     "text": [
      "Salient Identity\n",
      "Group 2\n",
      "Salience\n",
      "0.5385211108276419\n"
     ]
    }
   ],
   "source": [
    "def normalizeAccessibility(a):\n",
    "    sumAcc = 0\n",
    "    for sg in a.normativeGroups:\n",
    "        if sg.accessibility is not None:\n",
    "            sumAcc += sg.accessibility**2\n",
    "    normAcc = np.sqrt(sumAcc)\n",
    "    for sg in a.normativeGroups:\n",
    "        if sg.accessibility is not None:\n",
    "            sg.accessibility /= normAcc\n",
    "        \n",
    "def salienceSocialGroup(a, idxA):\n",
    "    for sg in a.normativeGroups:\n",
    "        if sg.type == 1:\n",
    "            fitness = sg.fitness\n",
    "            accessibility = sg.accessibility\n",
    "            #compute salience \n",
    "            salience = fitness * accessibility\n",
    "            #update salience for each sg\n",
    "            sg.salience = salience\n",
    "\n",
    "def salientActiveIdentity(a, idxAgent):\n",
    "    salienceVal = 0\n",
    "    identity = None\n",
    "    identityName = \"personal\"\n",
    "    presentGroups = []\n",
    "    #Get present groups only\n",
    "    for sg in a.normativeGroups:\n",
    "        if sg.type == 1:\n",
    "            presentGroups.append(sg)\n",
    "    \n",
    "    #more than one social group - social identity\n",
    "    if len(presentGroups) > 1:\n",
    "        #find social identity with highest salience\n",
    "        for sg in presentGroups:\n",
    "            auxVal = sg.salience\n",
    "            if  auxVal > salienceVal:\n",
    "                salienceVal = auxVal\n",
    "                identity = sg\n",
    "        if salienceVal > thresholdMinimalSalience: #only updating salient social identity again if its salience is above or equal to threshold        \n",
    "            a.salientIdentity = identity\n",
    "        else:\n",
    "            a.salientIdentity = None\n",
    "    else:\n",
    "        a.salientIdentity = None    \n",
    "    normalizeAccessibility(a)\n",
    "\n",
    "        \n",
    "salienceSocialGroup(agents[0], 0)\n",
    "salientActiveIdentity(agents[0], 0)\n",
    "if (agents[0].salientIdentity != None):\n",
    "    print(\"Salient Identity\")\n",
    "    print(agents[0].salientIdentity.name)\n",
    "    print(\"Salience\")\n",
    "    print(agents[0].salientIdentity.salience)\n"
   ]
  },
  {
   "cell_type": "markdown",
   "id": "510012e9",
   "metadata": {},
   "source": [
    "### Accessibility Update <a id=\"accUpdate\"></a>\n"
   ]
  },
  {
   "cell_type": "markdown",
   "id": "3842aff3",
   "metadata": {},
   "source": [
    "After performing an action or decision using a specific salient identity, each agent will update its accessibility. Then, the new accessibility value of an identity will be computed according to the previous accessibility and respective salience (and optionally an evaluated outcome), being this function like a <b>reinforcement mechanism</b>. \n",
    "\n",
    "$acc_{(SSI)_{t+1}} = f(acc_{(SSI)_{t}}, Salience{(SSI)_{t}}, opt_{evaluatedOutcome})$\n",
    "    \n",
    "In this stage, the accessibility values of all identities present in an agent's knowledge base must be normalized as well, so that when one identity's accessibility increases, all the others suffer a decay.\n",
    "This <b>update function can be altered depending on the scenarios</b> tested with the model."
   ]
  },
  {
   "cell_type": "code",
   "execution_count": 15,
   "id": "0026f38a",
   "metadata": {},
   "outputs": [
    {
     "name": "stdout",
     "output_type": "stream",
     "text": [
      "Previous accessibility\n",
      "0.226684439807799\n",
      "0.9739682565407481\n",
      "New accessibility\n",
      "0.22550151166891594\n",
      "0.9742428179027207\n"
     ]
    }
   ],
   "source": [
    "def updateAccessibility(a, constant = 0.01):\n",
    "    sid = a.salientIdentity    \n",
    "    if sid is not None:\n",
    "        prevAccessibility = sid.accessibility\n",
    "        newAccessibility = prevAccessibility + sid.salience * constant\n",
    "        sid.accessibility = newAccessibility\n",
    "    normalizeAccessibility(a)\n",
    "        \n",
    "print(\"Previous accessibility\")\n",
    "print(agents[0].normativeGroups[0].accessibility)\n",
    "print(agents[0].normativeGroups[1].accessibility)\n",
    "updateAccessibility(agents[0])\n",
    "print(\"New accessibility\")\n",
    "print(agents[0].normativeGroups[0].accessibility)\n",
    "print(agents[0].normativeGroups[1].accessibility)"
   ]
  },
  {
   "cell_type": "markdown",
   "id": "985859cb",
   "metadata": {},
   "source": [
    "### Setup <a id=\"setup\"></a>"
   ]
  },
  {
   "cell_type": "markdown",
   "id": "6d8f529e",
   "metadata": {},
   "source": [
    "The DIMA module can be embedded in a standard social agent architecture. In the <b>perception module</b>, the agent identifies the context and agents in the environment. This is provided as input to the <b>DIMA module</b>, which returns an active identity and its salience. In turn, the DIMA output is given to the <b>decision-making module</b>, allowing the agent to determine the proper action. This action will have an outcome in the environment, which can be evaluated by the agent in the perception module, resulting in a value used in the accessibility update of the active social identity. Additionally, the agent's knowledge base includes the agent's normative groups."
   ]
  },
  {
   "cell_type": "markdown",
   "id": "a399505d",
   "metadata": {},
   "source": [
    "<h3 align=\"center\">DIMA integrated in social agent architecture</h3>\n",
    "\n",
    "<img src=\"DIMA_figures/dimaModel_agentElements.png\" width=50% align=\"center\">"
   ]
  },
  {
   "cell_type": "markdown",
   "id": "7c35a115",
   "metadata": {},
   "source": [
    "Auxiliary functions for the plots."
   ]
  },
  {
   "cell_type": "code",
   "execution_count": 16,
   "id": "f0d38d4c",
   "metadata": {},
   "outputs": [],
   "source": [
    "def listGraphics(a, s, r):\n",
    "    for sg in a.normativeGroups:\n",
    "        if sg.type == 1:\n",
    "            salience = sg.salience if sg.salience is not None else 0\n",
    "            accessibility = sg.accessibility if sg.accessibility is not None else 0\n",
    "            if sg.salienceSteps == []:\n",
    "                sg.salienceSteps = [0] * numSteps\n",
    "            if sg.accessibilitySteps == []:\n",
    "                sg.accessibilitySteps = [0] * numSteps\n",
    "            sg.salienceSteps[s] += salience\n",
    "            sg.accessibilitySteps[s] += accessibility\n",
    "            if (s == numSteps - 1):\n",
    "                if len(sg.accessibilityFinalStep) == 0:\n",
    "                    sg.accessibilityFinalStep = [0] * numRuns\n",
    "                sg.accessibilityFinalStep[r] = accessibility\n",
    "                if len(sg.salienceFinalStep) == 0:\n",
    "                    sg.salienceFinalStep = [0] * numRuns\n",
    "                sg.salienceFinalStep[r] = salience\n",
    "        \n",
    "def clearSim():\n",
    "    for a in context.agentsPresent:\n",
    "        for sg in a.normativeGroups:\n",
    "            if sg.type == 1:\n",
    "                sg.fitness = None\n",
    "                sg.accessibility = None\n",
    "                sg.salience = None\n",
    "                sg.type = 0\n"
   ]
  },
  {
   "cell_type": "code",
   "execution_count": 17,
   "id": "034113b8",
   "metadata": {},
   "outputs": [
    {
     "name": "stdout",
     "output_type": "stream",
     "text": [
      "simulation 0\n",
      "simulation 1\n",
      "simulation 2\n",
      "simulation 3\n",
      "simulation 4\n",
      "simulation 5\n",
      "simulation 6\n",
      "simulation 7\n",
      "simulation 8\n",
      "simulation 9\n",
      "simulation 10\n",
      "simulation 11\n",
      "simulation 12\n",
      "simulation 13\n",
      "simulation 14\n",
      "simulation 15\n",
      "simulation 16\n",
      "simulation 17\n",
      "simulation 18\n",
      "simulation 19\n",
      "simulation 20\n",
      "simulation 21\n",
      "simulation 22\n",
      "simulation 23\n",
      "simulation 24\n",
      "simulation 25\n",
      "simulation 26\n",
      "simulation 27\n",
      "simulation 28\n",
      "simulation 29\n"
     ]
    }
   ],
   "source": [
    "#Perception Module functions here (perceive agents and context)\n",
    "#Agents and Context - provided manually by JSON File\n",
    "agents = initAgents(agentsFile)\n",
    "context = initContext(contextFile, agents)\n",
    "#Simulation Variables\n",
    "numSteps = 100\n",
    "numRuns = 30 #used to repeat the simulations\n",
    "\n",
    "def cycle():\n",
    "    #DIMA Module functions\n",
    "    #outside of \"for\", because it will result in the same clusters every time, for this example\n",
    "    global clustersCt\n",
    "    clustersCt = clustering()\n",
    "    for r in range(0, numRuns):\n",
    "        for s in range(0, numSteps):\n",
    "            #For each agent        \n",
    "            for idxAgent, a in enumerate(context.agentsPresent):\n",
    "                normativeFit(a, idxAgent)\n",
    "                comparativeFit(a)\n",
    "                salienceSocialGroup(a, idxAgent)\n",
    "                salientActiveIdentity(a, idxAgent)\n",
    "                listGraphics(a, s, r)\n",
    "                #Decision Making functions here (decide on proper action)\n",
    "                #Perception Module functions here (evaluate outcome)\n",
    "                updateAccessibility(a)\n",
    "        clearSim()\n",
    "        print(\"simulation \" + str(r))\n",
    "cycle()"
   ]
  },
  {
   "cell_type": "markdown",
   "id": "d48b5469",
   "metadata": {},
   "source": [
    "### Salience and Accessibility Plots <a id=\"plots\"></a>"
   ]
  },
  {
   "cell_type": "markdown",
   "id": "0d9f05e6",
   "metadata": {},
   "source": [
    "The following plot shows how the salience and accessibility of the salient social identity varies."
   ]
  },
  {
   "cell_type": "code",
   "execution_count": 18,
   "id": "8f1cd565",
   "metadata": {},
   "outputs": [
    {
     "name": "stdout",
     "output_type": "stream",
     "text": [
      "Salience and Accessibility Plots\n",
      "Cluster 1\n",
      "Step = 100\n",
      "Salience\n",
      "Mean: 0.668777786586476\n",
      "Standard Deviation: 3.3306690738754696e-16\n",
      "Accessibility\n",
      "Mean: 0.9905436221178822\n",
      "Standard Deviation: 4.440892098500626e-16\n",
      "Cluster 2\n",
      "Step = 100\n",
      "Salience\n",
      "Mean: 0.5553921422721584\n",
      "Standard Deviation: 2.220446049250313e-16\n",
      "Accessibility\n",
      "Mean: 0.9868974601674874\n",
      "Standard Deviation: 4.440892098500626e-16\n"
     ]
    },
    {
     "data": {
      "image/png": "[encoded data removed]",
      "text/plain": [
       "<Figure size 504x360 with 1 Axes>"
      ]
     },
     "metadata": {
      "needs_background": "light"
     },
     "output_type": "display_data"
    }
   ],
   "source": [
    "from scipy import stats\n",
    "\n",
    "def meanF(data):\n",
    "    n = len(data)\n",
    "    return sum(data)/n\n",
    "\n",
    "def variance(data, ddof=0):\n",
    "    n = len(data)\n",
    "    mean = meanF(data)\n",
    "    return sum((x - mean) ** 2 for x in data) / (n - ddof)\n",
    "\n",
    "def stdev(data):\n",
    "    var = variance(data)\n",
    "    std_dev = math.sqrt(var)\n",
    "    return std_dev\n",
    "\n",
    "def showSalienceAccessibilityPlots():\n",
    "    numGroups = len(clustersCt[2])\n",
    "    lenColors = len(colors)\n",
    "    fig = plt.figure(figsize = (7,5))\n",
    "    ax = fig.add_subplot(1, 1, 1)\n",
    "    ax.yaxis.set_major_locator(plt.MultipleLocator(0.1))\n",
    "    ax.xaxis.set_major_locator(plt.MultipleLocator(5))\n",
    "    plotStyle(ax)\n",
    "    sP = []\n",
    "    aP = []\n",
    "    for sg in range(0, clustersCt[0]):           \n",
    "        agentsGroup = []\n",
    "        currCluster = 0\n",
    "        for a, c in enumerate(clustersCt[1]):\n",
    "            if c == sg:\n",
    "                currCluster = c\n",
    "                agentsGroup.append(context.agentsPresent[a])\n",
    "        lenAgents = len(agentsGroup)\n",
    "        salienceSimsAgents = [0]*numSteps\n",
    "        accessibilitySimsAgents = [0]*numSteps\n",
    "        salienceFinalStepAgents = [0]*numRuns\n",
    "        accessibilityFinalStepAgents = [0]*numRuns\n",
    "        for agent in agentsGroup:                \n",
    "            #plot - scale axis\n",
    "            sgKB = agent.normativeGroups[currCluster]\n",
    "            salienceSimsAgents += np.array([x / numRuns for x in sgKB.salienceSteps])\n",
    "            accessibilitySimsAgents += np.array([x / numRuns for x in sgKB.accessibilitySteps])\n",
    "            salienceFinalStepAgents += np.array([x for x in sgKB.salienceFinalStep])\n",
    "            accessibilityFinalStepAgents += np.array([x for x in sgKB.accessibilityFinalStep])\n",
    "        #mean and stdDev\n",
    "        salienceAccessibilityMeanStdDev(sg, np.array(salienceFinalStepAgents/lenAgents), np.array(accessibilityFinalStepAgents/lenAgents))\n",
    "        colorPlot = colors[sg%lenColors]\n",
    "        salienceSims = np.array(salienceSimsAgents/lenAgents)\n",
    "        plt.plot(salienceSims, color=colorPlot, linewidth=2.5, label='Avg Salience of SSI for Agents in Cluster ' + str(sg+1))\n",
    "        accessibilitySims = np.array(accessibilitySimsAgents/lenAgents)             \n",
    "        plt.plot(accessibilitySims,'--', linewidth=2.5, color=colorPlot, label='Avg Accessibility of SSI for Agents in Cluster ' + str(sg+1))\n",
    "        sP.append(salienceSims)\n",
    "        aP.append(accessibilitySims)\n",
    "    plt.title('Average Salience and Accessibility of \\nSalient Social Identity for Agents in each Cluster')\n",
    "    if len(sP) == 2:\n",
    "        plt.fill_between(np.arange(numSteps), sP[0], sP[1], color=\"grey\", alpha=0.3)\n",
    "    if len(aP) == 2:\n",
    "        plt.fill_between(np.arange(numSteps), aP[0], aP[1], color=\"grey\", alpha=0.3)\n",
    "    plt.legend(fancybox=True)\n",
    "    plt.xlim(0, numSteps-1) \n",
    "    plt.ylim(0, 1)\n",
    "    plt.xlabel(\"Number of Steps\")\n",
    "    plt.ylabel(\"Salience and Accessibility\")                    \n",
    "    plt.show()\n",
    "\n",
    "def salienceAccessibilityMeanStdDev(sg, dataSal, dataAcc):\n",
    "    print(\"Cluster \" + str(sg+1))\n",
    "    print(\"Step = 100\")\n",
    "    print(\"Salience\")\n",
    "    print(\"Mean: \" + str(meanF(dataSal)))\n",
    "    print(\"Standard Deviation: \" + str(stdev(dataSal)))\n",
    "    print(\"Accessibility\")\n",
    "    print(\"Mean: \" + str(meanF(dataAcc)))\n",
    "    print(\"Standard Deviation: \" + str(stdev(dataAcc)))\n",
    "        \n",
    "print(\"Salience and Accessibility Plots\")\n",
    "showSalienceAccessibilityPlots()\n"
   ]
  },
  {
   "cell_type": "markdown",
   "id": "33869405",
   "metadata": {},
   "source": [
    "## Conclusion <a id=\"conclusion\"></a>"
   ]
  },
  {
   "cell_type": "markdown",
   "id": "5dcee5f0",
   "metadata": {},
   "source": [
    "In this notebook, we presented the Dynamic Identity Model for Agents, a model grounded on the Social Identity Approach. We provided an overview of the model formalization, explaining how it can be integrated with other components as well. We created a scenario exemplifying this, which is available as an additional notebook on GitHub (https://github.com/GAIPS/dynamic-identity-model-for-agents).\n",
    "\n",
    "For any questions, please feel free to contact us using this email: ines.lobo@tecnico.ulisboa.pt"
   ]
  }
 ],
 "metadata": {
  "kernelspec": {
   "display_name": "Python 3",
   "language": "python",
   "name": "python3"
  },
  "language_info": {
   "codemirror_mode": {
    "name": "ipython",
    "version": 3
   },
   "file_extension": ".py",
   "mimetype": "text/x-python",
   "name": "python",
   "nbconvert_exporter": "python",
   "pygments_lexer": "ipython3",
   "version": "3.8.8"
  }
 },
 "nbformat": 4,
 "nbformat_minor": 5
}
